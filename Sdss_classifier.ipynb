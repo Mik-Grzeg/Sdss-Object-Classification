{
 "cells": [
  {
   "cell_type": "code",
   "execution_count": 1,
   "id": "floral-crowd",
   "metadata": {
    "lines_to_next_cell": 0,
    "title": "codecell"
   },
   "outputs": [],
   "source": [
    "import numpy as np\n",
    "import pandas as pd\n",
    "import matplotlib.pyplot as plt\n",
    "import seaborn as sns\n",
    "import pickle\n",
    "import os\n",
    "\n",
    "from sklearn.metrics import confusion_matrix, classification_report, plot_confusion_matrix\n",
    "from sklearn.decomposition import PCA\n",
    "from sklearn.preprocessing import StandardScaler, MinMaxScaler, RobustScaler\n",
    "from sklearn.model_selection import train_test_split\n",
    "\n",
    "import neuralnet as nn\n",
    "\n",
    "sns.set_palette('husl')"
   ]
  },
  {
   "cell_type": "code",
   "execution_count": 2,
   "id": "043190fa-5a36-40d4-9dbf-3e4795bcda37",
   "metadata": {},
   "outputs": [],
   "source": [
    "QSO_df = pd.read_csv('Skyserver_random_SQL_QSO.csv', header=1)\n",
    "STAR_df = pd.read_csv('Skyserver_random_SQL_STAR.csv', header=1)\n",
    "GALAXY_df = pd.read_csv('Skyserver_random_SQL_GALAXY.csv', header=1)\n",
    "\n",
    "frames = [QSO_df, STAR_df, GALAXY_df]"
   ]
  },
  {
   "cell_type": "code",
   "execution_count": 3,
   "id": "conventional-decision",
   "metadata": {
    "lines_to_next_cell": 0,
    "title": "codecell"
   },
   "outputs": [
    {
     "data": {
      "text/html": [
       "<div>\n",
       "<style scoped>\n",
       "    .dataframe tbody tr th:only-of-type {\n",
       "        vertical-align: middle;\n",
       "    }\n",
       "\n",
       "    .dataframe tbody tr th {\n",
       "        vertical-align: top;\n",
       "    }\n",
       "\n",
       "    .dataframe thead th {\n",
       "        text-align: right;\n",
       "    }\n",
       "</style>\n",
       "<table border=\"1\" class=\"dataframe\">\n",
       "  <thead>\n",
       "    <tr style=\"text-align: right;\">\n",
       "      <th></th>\n",
       "      <th>class</th>\n",
       "      <th>run</th>\n",
       "      <th>camcol</th>\n",
       "      <th>rerun</th>\n",
       "      <th>field</th>\n",
       "      <th>objid</th>\n",
       "      <th>u</th>\n",
       "      <th>g</th>\n",
       "      <th>r</th>\n",
       "      <th>i</th>\n",
       "      <th>z</th>\n",
       "      <th>ra</th>\n",
       "      <th>dec</th>\n",
       "      <th>specobjid</th>\n",
       "      <th>plate</th>\n",
       "      <th>mjd</th>\n",
       "      <th>fiberid</th>\n",
       "      <th>redshift</th>\n",
       "    </tr>\n",
       "  </thead>\n",
       "  <tbody>\n",
       "    <tr>\n",
       "      <th>0</th>\n",
       "      <td>QSO</td>\n",
       "      <td>752</td>\n",
       "      <td>2</td>\n",
       "      <td>301</td>\n",
       "      <td>509</td>\n",
       "      <td>1237648703519261261</td>\n",
       "      <td>21.18103</td>\n",
       "      <td>20.92303</td>\n",
       "      <td>20.90172</td>\n",
       "      <td>20.79594</td>\n",
       "      <td>20.41632</td>\n",
       "      <td>219.725237</td>\n",
       "      <td>-0.709420</td>\n",
       "      <td>4533066078578470912</td>\n",
       "      <td>4026</td>\n",
       "      <td>55325</td>\n",
       "      <td>702</td>\n",
       "      <td>2.205364</td>\n",
       "    </tr>\n",
       "    <tr>\n",
       "      <th>1</th>\n",
       "      <td>QSO</td>\n",
       "      <td>752</td>\n",
       "      <td>2</td>\n",
       "      <td>301</td>\n",
       "      <td>509</td>\n",
       "      <td>1237648703519261261</td>\n",
       "      <td>21.18103</td>\n",
       "      <td>20.92303</td>\n",
       "      <td>20.90172</td>\n",
       "      <td>20.79594</td>\n",
       "      <td>20.41632</td>\n",
       "      <td>219.725237</td>\n",
       "      <td>-0.709420</td>\n",
       "      <td>4531767555765497856</td>\n",
       "      <td>4025</td>\n",
       "      <td>55350</td>\n",
       "      <td>74</td>\n",
       "      <td>2.204978</td>\n",
       "    </tr>\n",
       "    <tr>\n",
       "      <th>2</th>\n",
       "      <td>QSO</td>\n",
       "      <td>752</td>\n",
       "      <td>2</td>\n",
       "      <td>301</td>\n",
       "      <td>512</td>\n",
       "      <td>1237648703519458294</td>\n",
       "      <td>23.30450</td>\n",
       "      <td>21.82897</td>\n",
       "      <td>20.63058</td>\n",
       "      <td>19.71558</td>\n",
       "      <td>19.21622</td>\n",
       "      <td>220.268564</td>\n",
       "      <td>-0.658425</td>\n",
       "      <td>4528492660415721472</td>\n",
       "      <td>4022</td>\n",
       "      <td>55352</td>\n",
       "      <td>448</td>\n",
       "      <td>0.556324</td>\n",
       "    </tr>\n",
       "    <tr>\n",
       "      <th>3</th>\n",
       "      <td>QSO</td>\n",
       "      <td>752</td>\n",
       "      <td>2</td>\n",
       "      <td>301</td>\n",
       "      <td>513</td>\n",
       "      <td>1237648703519522930</td>\n",
       "      <td>21.05674</td>\n",
       "      <td>20.26006</td>\n",
       "      <td>20.01458</td>\n",
       "      <td>19.94574</td>\n",
       "      <td>19.57497</td>\n",
       "      <td>220.311647</td>\n",
       "      <td>-0.743340</td>\n",
       "      <td>4528491011148279808</td>\n",
       "      <td>4022</td>\n",
       "      <td>55352</td>\n",
       "      <td>442</td>\n",
       "      <td>2.512770</td>\n",
       "    </tr>\n",
       "    <tr>\n",
       "      <th>4</th>\n",
       "      <td>QSO</td>\n",
       "      <td>752</td>\n",
       "      <td>2</td>\n",
       "      <td>301</td>\n",
       "      <td>513</td>\n",
       "      <td>1237648703519522968</td>\n",
       "      <td>22.15701</td>\n",
       "      <td>21.59801</td>\n",
       "      <td>21.58074</td>\n",
       "      <td>21.33966</td>\n",
       "      <td>22.58589</td>\n",
       "      <td>220.353468</td>\n",
       "      <td>-0.633315</td>\n",
       "      <td>4528492110659907584</td>\n",
       "      <td>4022</td>\n",
       "      <td>55352</td>\n",
       "      <td>446</td>\n",
       "      <td>2.199887</td>\n",
       "    </tr>\n",
       "  </tbody>\n",
       "</table>\n",
       "</div>"
      ],
      "text/plain": [
       "  class  run  camcol  rerun  field                objid         u         g  \\\n",
       "0   QSO  752       2    301    509  1237648703519261261  21.18103  20.92303   \n",
       "1   QSO  752       2    301    509  1237648703519261261  21.18103  20.92303   \n",
       "2   QSO  752       2    301    512  1237648703519458294  23.30450  21.82897   \n",
       "3   QSO  752       2    301    513  1237648703519522930  21.05674  20.26006   \n",
       "4   QSO  752       2    301    513  1237648703519522968  22.15701  21.59801   \n",
       "\n",
       "          r         i         z          ra       dec            specobjid  \\\n",
       "0  20.90172  20.79594  20.41632  219.725237 -0.709420  4533066078578470912   \n",
       "1  20.90172  20.79594  20.41632  219.725237 -0.709420  4531767555765497856   \n",
       "2  20.63058  19.71558  19.21622  220.268564 -0.658425  4528492660415721472   \n",
       "3  20.01458  19.94574  19.57497  220.311647 -0.743340  4528491011148279808   \n",
       "4  21.58074  21.33966  22.58589  220.353468 -0.633315  4528492110659907584   \n",
       "\n",
       "   plate    mjd  fiberid  redshift  \n",
       "0   4026  55325      702  2.205364  \n",
       "1   4025  55350       74  2.204978  \n",
       "2   4022  55352      448  0.556324  \n",
       "3   4022  55352      442  2.512770  \n",
       "4   4022  55352      446  2.199887  "
      ]
     },
     "execution_count": 3,
     "metadata": {},
     "output_type": "execute_result"
    }
   ],
   "source": [
    "# sdss_data = pd.read_csv('Skyserver_SQL4_24_2021 12_35_26 PM.csv', header=1)\n",
    "sdss_data = pd.concat(frames).reset_index(drop=True)\n",
    "sdss_data.head()"
   ]
  },
  {
   "cell_type": "markdown",
   "id": "e21262b1-a366-4dab-a343-1b11e06928bb",
   "metadata": {
    "lines_to_next_cell": 0,
    "title": "markdown"
   },
   "source": [
    "#### Features"
   ]
  },
  {
   "cell_type": "code",
   "execution_count": 4,
   "id": "realistic-davis",
   "metadata": {
    "lines_to_next_cell": 0
   },
   "outputs": [
    {
     "name": "stdout",
     "output_type": "stream",
     "text": [
      "<class 'pandas.core.frame.DataFrame'>\n",
      "RangeIndex: 20358 entries, 0 to 20357\n",
      "Data columns (total 18 columns):\n",
      " #   Column     Non-Null Count  Dtype  \n",
      "---  ------     --------------  -----  \n",
      " 0   class      20358 non-null  object \n",
      " 1   run        20358 non-null  int64  \n",
      " 2   camcol     20358 non-null  int64  \n",
      " 3   rerun      20358 non-null  int64  \n",
      " 4   field      20358 non-null  int64  \n",
      " 5   objid      20358 non-null  int64  \n",
      " 6   u          20358 non-null  float64\n",
      " 7   g          20358 non-null  float64\n",
      " 8   r          20358 non-null  float64\n",
      " 9   i          20358 non-null  float64\n",
      " 10  z          20358 non-null  float64\n",
      " 11  ra         20358 non-null  float64\n",
      " 12  dec        20358 non-null  float64\n",
      " 13  specobjid  20358 non-null  int64  \n",
      " 14  plate      20358 non-null  int64  \n",
      " 15  mjd        20358 non-null  int64  \n",
      " 16  fiberid    20358 non-null  int64  \n",
      " 17  redshift   20358 non-null  float64\n",
      "dtypes: float64(8), int64(9), object(1)\n",
      "memory usage: 2.8+ MB\n"
     ]
    }
   ],
   "source": [
    "sdss_data.info()"
   ]
  },
  {
   "cell_type": "markdown",
   "id": "bd8eee90-5d5e-410b-ab3e-69fc17c9c0f4",
   "metadata": {
    "lines_to_next_cell": 0,
    "title": "markdown"
   },
   "source": [
    "Details about more important features.\n",
    "+ ra, dec — right ascension and declination respectively\n",
    "+ u, g, r, i, z — filter bands (a.k.a. photometric system or astronomical magnitudes)\n",
    "+ run, rerun, camcol, field — descriptors of fields (i.e. 2048 x 1489 pixels) within image\n",
    "+ redshift — increase in wavelength due to motion of astronomical object\n",
    "+ plate — plate number\n",
    "+ mjd — modified Julian date of observation\n",
    "+ fiberid — optic fiber ID\n",
    "+ class - category of an object, that will be our dependent variable"
   ]
  },
  {
   "cell_type": "code",
   "execution_count": 5,
   "id": "4bb1e274-de91-4c11-9d44-202d84634a7c",
   "metadata": {},
   "outputs": [],
   "source": [
    "grouped_desc = sdss_data.groupby(['class']).describe()"
   ]
  },
  {
   "cell_type": "code",
   "execution_count": 6,
   "id": "productive-settlement",
   "metadata": {
    "lines_to_next_cell": 0,
    "title": "codecell"
   },
   "outputs": [
    {
     "data": {
      "text/html": [
       "<div>\n",
       "<style scoped>\n",
       "    .dataframe tbody tr th:only-of-type {\n",
       "        vertical-align: middle;\n",
       "    }\n",
       "\n",
       "    .dataframe tbody tr th {\n",
       "        vertical-align: top;\n",
       "    }\n",
       "\n",
       "    .dataframe thead th {\n",
       "        text-align: right;\n",
       "    }\n",
       "</style>\n",
       "<table border=\"1\" class=\"dataframe\">\n",
       "  <thead>\n",
       "    <tr style=\"text-align: right;\">\n",
       "      <th></th>\n",
       "      <th>class</th>\n",
       "      <th>run</th>\n",
       "      <th>camcol</th>\n",
       "      <th>rerun</th>\n",
       "      <th>field</th>\n",
       "      <th>objid</th>\n",
       "      <th>u</th>\n",
       "      <th>g</th>\n",
       "      <th>r</th>\n",
       "      <th>i</th>\n",
       "      <th>z</th>\n",
       "      <th>ra</th>\n",
       "      <th>dec</th>\n",
       "      <th>specobjid</th>\n",
       "      <th>plate</th>\n",
       "      <th>mjd</th>\n",
       "      <th>fiberid</th>\n",
       "      <th>redshift</th>\n",
       "    </tr>\n",
       "  </thead>\n",
       "  <tbody>\n",
       "    <tr>\n",
       "      <th>0</th>\n",
       "      <td>3</td>\n",
       "      <td>31</td>\n",
       "      <td>6</td>\n",
       "      <td>1</td>\n",
       "      <td>682</td>\n",
       "      <td>18099</td>\n",
       "      <td>17818</td>\n",
       "      <td>17642</td>\n",
       "      <td>17580</td>\n",
       "      <td>17664</td>\n",
       "      <td>17684</td>\n",
       "      <td>18099</td>\n",
       "      <td>18099</td>\n",
       "      <td>20358</td>\n",
       "      <td>432</td>\n",
       "      <td>304</td>\n",
       "      <td>1000</td>\n",
       "      <td>20277</td>\n",
       "    </tr>\n",
       "  </tbody>\n",
       "</table>\n",
       "</div>"
      ],
      "text/plain": [
       "   class  run  camcol  rerun  field  objid      u      g      r      i      z  \\\n",
       "0      3   31       6      1    682  18099  17818  17642  17580  17664  17684   \n",
       "\n",
       "      ra    dec  specobjid  plate  mjd  fiberid  redshift  \n",
       "0  18099  18099      20358    432  304     1000     20277  "
      ]
     },
     "execution_count": 6,
     "metadata": {},
     "output_type": "execute_result"
    }
   ],
   "source": [
    "sdss_data.nunique().to_frame().T"
   ]
  },
  {
   "cell_type": "markdown",
   "id": "eab961aa-bdfb-4b7c-a9cf-5612616e182f",
   "metadata": {
    "lines_to_next_cell": 0,
    "title": "markdown"
   },
   "source": [
    "#### Univariate analysis"
   ]
  },
  {
   "cell_type": "code",
   "execution_count": 7,
   "id": "unusual-influence",
   "metadata": {
    "lines_to_next_cell": 0,
    "title": "codecell"
   },
   "outputs": [
    {
     "data": {
      "image/png": "[encoded data removed]",
      "text/plain": [
       "<Figure size 432x288 with 1 Axes>"
      ]
     },
     "metadata": {
      "needs_background": "light"
     },
     "output_type": "display_data"
    }
   ],
   "source": [
    "# counts of observations in each categorical bin\n",
    "ax = sns.countplot(x='class', data=sdss_data)"
   ]
  },
  {
   "cell_type": "code",
   "execution_count": 8,
   "id": "latest-circuit",
   "metadata": {
    "lines_to_next_cell": 0,
    "title": "codecell"
   },
   "outputs": [
    {
     "data": {
      "text/html": [
       "<div>\n",
       "<style scoped>\n",
       "    .dataframe tbody tr th:only-of-type {\n",
       "        vertical-align: middle;\n",
       "    }\n",
       "\n",
       "    .dataframe tbody tr th {\n",
       "        vertical-align: top;\n",
       "    }\n",
       "\n",
       "    .dataframe thead th {\n",
       "        text-align: right;\n",
       "    }\n",
       "</style>\n",
       "<table border=\"1\" class=\"dataframe\">\n",
       "  <thead>\n",
       "    <tr style=\"text-align: right;\">\n",
       "      <th></th>\n",
       "      <th>Occurances</th>\n",
       "    </tr>\n",
       "  </thead>\n",
       "  <tbody>\n",
       "    <tr>\n",
       "      <th>GALAXY</th>\n",
       "      <td>11243</td>\n",
       "    </tr>\n",
       "    <tr>\n",
       "      <th>STAR</th>\n",
       "      <td>4992</td>\n",
       "    </tr>\n",
       "    <tr>\n",
       "      <th>QSO</th>\n",
       "      <td>4123</td>\n",
       "    </tr>\n",
       "  </tbody>\n",
       "</table>\n",
       "</div>"
      ],
      "text/plain": [
       "        Occurances\n",
       "GALAXY       11243\n",
       "STAR          4992\n",
       "QSO           4123"
      ]
     },
     "execution_count": 8,
     "metadata": {},
     "output_type": "execute_result"
    }
   ],
   "source": [
    "occurances = sdss_data['class'].value_counts().to_frame().rename(\n",
    "    index=str, columns={'class': 'Occurances'})\n",
    "occurances"
   ]
  },
  {
   "cell_type": "markdown",
   "id": "27097083-49f9-4dda-870f-d8bd811d6564",
   "metadata": {},
   "source": [
    "More than half of observations are galaxies."
   ]
  },
  {
   "cell_type": "code",
   "execution_count": 9,
   "id": "caring-opposition",
   "metadata": {
    "lines_to_next_cell": 0,
    "title": "codecell"
   },
   "outputs": [
    {
     "data": {
      "text/plain": [
       "array([ 752,  756, 1345, 1331, 1302, 1458,   94,  109,  259,  308, 1462,\n",
       "       1473, 1895,  745, 1477, 1478, 1045, 1231, 1239, 1329, 1241, 1119,\n",
       "       1140, 1350, 1402, 1404, 1412, 1729, 1904, 2074, 1907])"
      ]
     },
     "execution_count": 9,
     "metadata": {},
     "output_type": "execute_result"
    }
   ],
   "source": [
    "sdss_data.run.unique()"
   ]
  },
  {
   "cell_type": "code",
   "execution_count": 10,
   "id": "earlier-variety",
   "metadata": {
    "lines_to_next_cell": 0,
    "title": "codecell"
   },
   "outputs": [
    {
     "data": {
      "image/png": "[encoded data removed]",
      "text/plain": [
       "<Figure size 864x432 with 2 Axes>"
      ]
     },
     "metadata": {
      "needs_background": "light"
     },
     "output_type": "display_data"
    }
   ],
   "source": [
    "xs = ['camcol', 'run']\n",
    "fig, axes = plt.subplots(ncols=2, nrows=1, figsize=(12, 6))\n",
    "\n",
    "for i in range(len(xs)):\n",
    "    axes[i] = sns.histplot(sdss_data, x=xs[i], hue='class',\n",
    "                           multiple='stack', ax=axes[i])"
   ]
  },
  {
   "cell_type": "code",
   "execution_count": 11,
   "id": "subjective-forty",
   "metadata": {
    "lines_to_next_cell": 0,
    "title": "codecell"
   },
   "outputs": [
    {
     "data": {
      "text/html": [
       "<div>\n",
       "<style scoped>\n",
       "    .dataframe tbody tr th:only-of-type {\n",
       "        vertical-align: middle;\n",
       "    }\n",
       "\n",
       "    .dataframe tbody tr th {\n",
       "        vertical-align: top;\n",
       "    }\n",
       "\n",
       "    .dataframe thead th {\n",
       "        text-align: right;\n",
       "    }\n",
       "</style>\n",
       "<table border=\"1\" class=\"dataframe\">\n",
       "  <thead>\n",
       "    <tr style=\"text-align: right;\">\n",
       "      <th></th>\n",
       "      <th>redshift</th>\n",
       "    </tr>\n",
       "    <tr>\n",
       "      <th>class</th>\n",
       "      <th></th>\n",
       "    </tr>\n",
       "  </thead>\n",
       "  <tbody>\n",
       "    <tr>\n",
       "      <th>GALAXY</th>\n",
       "      <td>0.503228</td>\n",
       "    </tr>\n",
       "    <tr>\n",
       "      <th>QSO</th>\n",
       "      <td>2.110945</td>\n",
       "    </tr>\n",
       "    <tr>\n",
       "      <th>STAR</th>\n",
       "      <td>0.000170</td>\n",
       "    </tr>\n",
       "  </tbody>\n",
       "</table>\n",
       "</div>"
      ],
      "text/plain": [
       "        redshift\n",
       "class           \n",
       "GALAXY  0.503228\n",
       "QSO     2.110945\n",
       "STAR    0.000170"
      ]
     },
     "execution_count": 11,
     "metadata": {},
     "output_type": "execute_result"
    },
    {
     "data": {
      "image/png": "[encoded data removed]",
      "text/plain": [
       "<Figure size 1080x432 with 3 Axes>"
      ]
     },
     "metadata": {
      "needs_background": "light"
     },
     "output_type": "display_data"
    }
   ],
   "source": [
    "fig, axes = plt.subplots(nrows=1, ncols=3, figsize=(15, 6))\n",
    "\n",
    "for i in range(len(occurances)):\n",
    "    ax = sns.histplot(sdss_data[sdss_data['class'] ==\n",
    "                                occurances.index[i]].redshift, bins=40, ax=axes[i])\n",
    "    ax.set_title(occurances.index[i])\n",
    "\n",
    "# mean of redshift for every class\n",
    "sdss_data.groupby(by='class')['redshift'].mean().to_frame()"
   ]
  },
  {
   "cell_type": "markdown",
   "id": "55468f9b-9ae3-48ba-b19f-7344b8bbab4a",
   "metadata": {
    "lines_to_next_cell": 0,
    "title": "markdown"
   },
   "source": [
    "As it seems there are significant differences amongst classification classes, especially QSO (quasars) stands out.\n",
    "+ **GALAXY** distribution of redshift values seems to be shifted to the right. Most samples lie around 0.055\n",
    "+ **STAR** redshift histogram is centered around 0, and most of the observations lie between -0.002 and 0.002"
   ]
  },
  {
   "cell_type": "markdown",
   "id": "392995f7-b41d-45e3-9ac0-8717c13412a5",
   "metadata": {
    "lines_to_next_cell": 0,
    "title": "markdown"
   },
   "source": [
    "##### Dec\n",
    "Let's visualize dec feature as violin plots."
   ]
  },
  {
   "cell_type": "code",
   "execution_count": 12,
   "id": "lovely-renaissance",
   "metadata": {
    "lines_to_next_cell": 0,
    "title": "codecell"
   },
   "outputs": [
    {
     "data": {
      "text/plain": [
       "<AxesSubplot:xlabel='dec', ylabel='class'>"
      ]
     },
     "execution_count": 12,
     "metadata": {},
     "output_type": "execute_result"
    },
    {
     "data": {
      "image/png": "[encoded data removed]",
      "text/plain": [
       "<Figure size 432x288 with 1 Axes>"
      ]
     },
     "metadata": {
      "needs_background": "light"
     },
     "output_type": "display_data"
    }
   ],
   "source": [
    "sns.violinplot(y=sdss_data['class'], x=sdss_data['dec'])"
   ]
  },
  {
   "cell_type": "markdown",
   "id": "185dd0da-8634-46ed-8a66-0e970e7d9314",
   "metadata": {},
   "source": [
    "Most of data points of each class lie around 0 and between 40 - 70, because violinplots are the widest there."
   ]
  },
  {
   "cell_type": "code",
   "execution_count": 13,
   "id": "901d5ff0-794c-46de-860a-26f0b221d157",
   "metadata": {},
   "outputs": [
    {
     "data": {
      "text/plain": [
       "<AxesSubplot:xlabel='class', ylabel='mjd'>"
      ]
     },
     "execution_count": 13,
     "metadata": {},
     "output_type": "execute_result"
    },
    {
     "data": {
      "image/png": "[encoded data removed]",
      "text/plain": [
       "<Figure size 432x288 with 1 Axes>"
      ]
     },
     "metadata": {
      "needs_background": "light"
     },
     "output_type": "display_data"
    }
   ],
   "source": [
    "sns.boxplot(x='class', y='mjd', data=sdss_data)"
   ]
  },
  {
   "cell_type": "markdown",
   "id": "1ae3df50-231a-479a-a47f-6e37a4668f47",
   "metadata": {
    "lines_to_next_cell": 0,
    "title": "markdown"
   },
   "source": [
    "##### Multivariative analysis"
   ]
  },
  {
   "cell_type": "code",
   "execution_count": 14,
   "id": "potential-football",
   "metadata": {
    "lines_to_next_cell": 0,
    "title": "codecell"
   },
   "outputs": [
    {
     "data": {
      "image/png": "[encoded data removed]",
      "text/plain": [
       "<Figure size 1152x288 with 6 Axes>"
      ]
     },
     "metadata": {
      "needs_background": "light"
     },
     "output_type": "display_data"
    }
   ],
   "source": [
    "# names of filter bands columns\n",
    "filter_bands = ['u', 'g', 'r', 'i', 'z']\n",
    "\n",
    "fig, axes = plt.subplots(nrows=1, ncols=3, figsize=(16, 4))\n",
    "cmap = \"YlGnBu\"\n",
    "\n",
    "# plotting\n",
    "for i in range(len(occurances)):\n",
    "    corr = sdss_data[sdss_data['class'] ==\n",
    "                     occurances.index[i]][filter_bands].corr()\n",
    "    ax = sns.heatmap(corr, cmap=cmap, ax=axes[i])\n",
    "    ax.set_title(occurances.index[i])"
   ]
  },
  {
   "cell_type": "markdown",
   "id": "f8482f3d-fb1e-4b58-b937-ba1c0d95af9b",
   "metadata": {
    "lines_to_next_cell": 0,
    "title": "markdown"
   },
   "source": [
    "At the beggining it is worth pointing out that correlation maps look very similar for Galaxies and Stars. Hence, we can assume that different bands behave similarily for those classes.\n",
    "The correlation matrices above show that some of the features are strongly correlated. I assume it is not something odd, because if there is an object captured by one of the bands, the other should capture something aswell.\n",
    "\n",
    "Dimensionality reduction will probably increase accuracy of a classifier."
   ]
  },
  {
   "cell_type": "code",
   "execution_count": 15,
   "id": "2377cc29-1c12-4870-808c-900da897cd89",
   "metadata": {},
   "outputs": [
    {
     "data": {
      "text/html": [
       "<div>\n",
       "<style scoped>\n",
       "    .dataframe tbody tr th:only-of-type {\n",
       "        vertical-align: middle;\n",
       "    }\n",
       "\n",
       "    .dataframe tbody tr th {\n",
       "        vertical-align: top;\n",
       "    }\n",
       "\n",
       "    .dataframe thead th {\n",
       "        text-align: right;\n",
       "    }\n",
       "</style>\n",
       "<table border=\"1\" class=\"dataframe\">\n",
       "  <thead>\n",
       "    <tr style=\"text-align: right;\">\n",
       "      <th></th>\n",
       "      <th>u</th>\n",
       "      <th>g</th>\n",
       "      <th>r</th>\n",
       "      <th>i</th>\n",
       "      <th>z</th>\n",
       "    </tr>\n",
       "  </thead>\n",
       "  <tbody>\n",
       "    <tr>\n",
       "      <th>u</th>\n",
       "      <td>1.000000</td>\n",
       "      <td>0.999852</td>\n",
       "      <td>0.015067</td>\n",
       "      <td>0.006615</td>\n",
       "      <td>0.004668</td>\n",
       "    </tr>\n",
       "    <tr>\n",
       "      <th>g</th>\n",
       "      <td>0.999852</td>\n",
       "      <td>1.000000</td>\n",
       "      <td>0.017415</td>\n",
       "      <td>0.010200</td>\n",
       "      <td>0.008256</td>\n",
       "    </tr>\n",
       "    <tr>\n",
       "      <th>r</th>\n",
       "      <td>0.015067</td>\n",
       "      <td>0.017415</td>\n",
       "      <td>1.000000</td>\n",
       "      <td>0.921864</td>\n",
       "      <td>0.846915</td>\n",
       "    </tr>\n",
       "    <tr>\n",
       "      <th>i</th>\n",
       "      <td>0.006615</td>\n",
       "      <td>0.010200</td>\n",
       "      <td>0.921864</td>\n",
       "      <td>1.000000</td>\n",
       "      <td>0.958625</td>\n",
       "    </tr>\n",
       "    <tr>\n",
       "      <th>z</th>\n",
       "      <td>0.004668</td>\n",
       "      <td>0.008256</td>\n",
       "      <td>0.846915</td>\n",
       "      <td>0.958625</td>\n",
       "      <td>1.000000</td>\n",
       "    </tr>\n",
       "  </tbody>\n",
       "</table>\n",
       "</div>"
      ],
      "text/plain": [
       "          u         g         r         i         z\n",
       "u  1.000000  0.999852  0.015067  0.006615  0.004668\n",
       "g  0.999852  1.000000  0.017415  0.010200  0.008256\n",
       "r  0.015067  0.017415  1.000000  0.921864  0.846915\n",
       "i  0.006615  0.010200  0.921864  1.000000  0.958625\n",
       "z  0.004668  0.008256  0.846915  0.958625  1.000000"
      ]
     },
     "execution_count": 15,
     "metadata": {},
     "output_type": "execute_result"
    }
   ],
   "source": [
    "sdss_data\n",
    "sdss_data[filter_bands].corr()"
   ]
  },
  {
   "cell_type": "code",
   "execution_count": 16,
   "id": "sitting-european",
   "metadata": {
    "lines_to_next_cell": 0,
    "title": "codecell"
   },
   "outputs": [
    {
     "data": {
      "text/plain": [
       "<seaborn.axisgrid.FacetGrid at 0x7f28432decd0>"
      ]
     },
     "execution_count": 16,
     "metadata": {},
     "output_type": "execute_result"
    },
    {
     "data": {
      "image/png": "[encoded data removed]",
      "text/plain": [
       "<Figure size 2073.6x576 with 3 Axes>"
      ]
     },
     "metadata": {
      "needs_background": "light"
     },
     "output_type": "display_data"
    }
   ],
   "source": [
    "sns.lmplot(x='ra', y='dec', data=sdss_data, col='class',\n",
    "           aspect=1.2, height=8, hue='class', fit_reg=False)"
   ]
  },
  {
   "cell_type": "markdown",
   "id": "e3c31a8b-0af5-4587-9c19-662119cbc4dd",
   "metadata": {
    "lines_to_next_cell": 0,
    "title": "markdown"
   },
   "source": [
    "Here are plotted **dec** against **ra** values for each class object.\n",
    "Amongst categories of objects most of the groups of data points seem to be similar. There are some clusters that belong to only one class. "
   ]
  },
  {
   "cell_type": "code",
   "execution_count": 17,
   "id": "convenient-slope",
   "metadata": {
    "lines_to_next_cell": 0,
    "title": "codecell"
   },
   "outputs": [
    {
     "data": {
      "text/html": [
       "<div>\n",
       "<style scoped>\n",
       "    .dataframe tbody tr th:only-of-type {\n",
       "        vertical-align: middle;\n",
       "    }\n",
       "\n",
       "    .dataframe tbody tr th {\n",
       "        vertical-align: top;\n",
       "    }\n",
       "\n",
       "    .dataframe thead th {\n",
       "        text-align: right;\n",
       "    }\n",
       "</style>\n",
       "<table border=\"1\" class=\"dataframe\">\n",
       "  <thead>\n",
       "    <tr style=\"text-align: right;\">\n",
       "      <th></th>\n",
       "      <th>plate</th>\n",
       "      <th>mjd</th>\n",
       "    </tr>\n",
       "  </thead>\n",
       "  <tbody>\n",
       "    <tr>\n",
       "      <th>plate</th>\n",
       "      <td>1.000000</td>\n",
       "      <td>0.939648</td>\n",
       "    </tr>\n",
       "    <tr>\n",
       "      <th>mjd</th>\n",
       "      <td>0.939648</td>\n",
       "      <td>1.000000</td>\n",
       "    </tr>\n",
       "  </tbody>\n",
       "</table>\n",
       "</div>"
      ],
      "text/plain": [
       "          plate       mjd\n",
       "plate  1.000000  0.939648\n",
       "mjd    0.939648  1.000000"
      ]
     },
     "execution_count": 17,
     "metadata": {},
     "output_type": "execute_result"
    },
    {
     "data": {
      "image/png": "[encoded data removed]",
      "text/plain": [
       "<Figure size 1080x360 with 3 Axes>"
      ]
     },
     "metadata": {
      "needs_background": "light"
     },
     "output_type": "display_data"
    }
   ],
   "source": [
    "sns.lmplot(x='plate', y='mjd', data=sdss_data, col='class', hue='class')\n",
    "sdss_data[['plate', 'mjd']].corr()"
   ]
  },
  {
   "cell_type": "markdown",
   "id": "6fdf2a94-128d-411f-9560-4af171000c5c",
   "metadata": {
    "lines_to_next_cell": 0,
    "title": "markdown"
   },
   "source": [
    "'**mijd**' and '**plate**' seem to be lineary coorelated, thus plate column will be removed."
   ]
  },
  {
   "cell_type": "markdown",
   "id": "b862575b-eef7-4a7d-9598-f2c63139260c",
   "metadata": {
    "lines_to_next_cell": 0,
    "title": "markdown"
   },
   "source": [
    "#### Feature engineering"
   ]
  },
  {
   "cell_type": "markdown",
   "id": "c37bbbca-136d-4c28-a1b5-7606b23f63ea",
   "metadata": {
    "lines_to_next_cell": 0,
    "title": "markdown"
   },
   "source": [
    "'**rerun**' column has only 1 value even though the provided data set has around 20000 records. Therefore it can be dropped, since it won't affect classification.\n",
    "'**objid**' and '**specobjid**' are ids for accessing the rows in the original database.\n",
    "\n",
    "Hence, they might be removed from data set, because they won't be related to the outcome of prediction.\n",
    "Summarizing, these variables won't affect predictions of model, thus they can be removed.\n",
    "\n",
    "More features to remove: **camcol**, **field**, **fiberid**, **run**, **plate**"
   ]
  },
  {
   "cell_type": "code",
   "execution_count": 18,
   "id": "539c35ca-389d-475a-949a-c72d06746793",
   "metadata": {},
   "outputs": [
    {
     "data": {
      "text/html": [
       "<div>\n",
       "<style scoped>\n",
       "    .dataframe tbody tr th:only-of-type {\n",
       "        vertical-align: middle;\n",
       "    }\n",
       "\n",
       "    .dataframe tbody tr th {\n",
       "        vertical-align: top;\n",
       "    }\n",
       "\n",
       "    .dataframe thead th {\n",
       "        text-align: right;\n",
       "    }\n",
       "</style>\n",
       "<table border=\"1\" class=\"dataframe\">\n",
       "  <thead>\n",
       "    <tr style=\"text-align: right;\">\n",
       "      <th></th>\n",
       "      <th>run</th>\n",
       "      <th>camcol</th>\n",
       "      <th>rerun</th>\n",
       "      <th>field</th>\n",
       "      <th>objid</th>\n",
       "      <th>u</th>\n",
       "      <th>g</th>\n",
       "      <th>r</th>\n",
       "      <th>i</th>\n",
       "      <th>z</th>\n",
       "      <th>ra</th>\n",
       "      <th>dec</th>\n",
       "      <th>specobjid</th>\n",
       "      <th>plate</th>\n",
       "      <th>mjd</th>\n",
       "      <th>fiberid</th>\n",
       "      <th>redshift</th>\n",
       "    </tr>\n",
       "    <tr>\n",
       "      <th>class</th>\n",
       "      <th></th>\n",
       "      <th></th>\n",
       "      <th></th>\n",
       "      <th></th>\n",
       "      <th></th>\n",
       "      <th></th>\n",
       "      <th></th>\n",
       "      <th></th>\n",
       "      <th></th>\n",
       "      <th></th>\n",
       "      <th></th>\n",
       "      <th></th>\n",
       "      <th></th>\n",
       "      <th></th>\n",
       "      <th></th>\n",
       "      <th></th>\n",
       "      <th></th>\n",
       "    </tr>\n",
       "  </thead>\n",
       "  <tbody>\n",
       "    <tr>\n",
       "      <th>GALAXY</th>\n",
       "      <td>1296.045451</td>\n",
       "      <td>3.650627</td>\n",
       "      <td>301.0</td>\n",
       "      <td>240.773726</td>\n",
       "      <td>1.237651e+18</td>\n",
       "      <td>23.829993</td>\n",
       "      <td>21.906185</td>\n",
       "      <td>20.295857</td>\n",
       "      <td>19.382390</td>\n",
       "      <td>18.949002</td>\n",
       "      <td>159.208621</td>\n",
       "      <td>15.638214</td>\n",
       "      <td>5.299049e+18</td>\n",
       "      <td>4706.373388</td>\n",
       "      <td>55747.852086</td>\n",
       "      <td>523.408521</td>\n",
       "      <td>0.503228</td>\n",
       "    </tr>\n",
       "    <tr>\n",
       "      <th>QSO</th>\n",
       "      <td>1117.642008</td>\n",
       "      <td>3.993451</td>\n",
       "      <td>301.0</td>\n",
       "      <td>289.390735</td>\n",
       "      <td>1.237650e+18</td>\n",
       "      <td>19.717012</td>\n",
       "      <td>18.616896</td>\n",
       "      <td>20.721379</td>\n",
       "      <td>20.551191</td>\n",
       "      <td>20.324398</td>\n",
       "      <td>168.267999</td>\n",
       "      <td>22.607516</td>\n",
       "      <td>5.440519e+18</td>\n",
       "      <td>4832.024497</td>\n",
       "      <td>55821.520737</td>\n",
       "      <td>520.322338</td>\n",
       "      <td>2.110945</td>\n",
       "    </tr>\n",
       "    <tr>\n",
       "      <th>STAR</th>\n",
       "      <td>1018.062500</td>\n",
       "      <td>3.778646</td>\n",
       "      <td>301.0</td>\n",
       "      <td>232.585136</td>\n",
       "      <td>1.237650e+18</td>\n",
       "      <td>21.938177</td>\n",
       "      <td>20.432247</td>\n",
       "      <td>19.942759</td>\n",
       "      <td>19.693122</td>\n",
       "      <td>19.539174</td>\n",
       "      <td>158.363837</td>\n",
       "      <td>11.580710</td>\n",
       "      <td>5.158543e+18</td>\n",
       "      <td>4581.587941</td>\n",
       "      <td>55678.469551</td>\n",
       "      <td>487.106170</td>\n",
       "      <td>0.000170</td>\n",
       "    </tr>\n",
       "  </tbody>\n",
       "</table>\n",
       "</div>"
      ],
      "text/plain": [
       "                run    camcol  rerun       field         objid          u  \\\n",
       "class                                                                       \n",
       "GALAXY  1296.045451  3.650627  301.0  240.773726  1.237651e+18  23.829993   \n",
       "QSO     1117.642008  3.993451  301.0  289.390735  1.237650e+18  19.717012   \n",
       "STAR    1018.062500  3.778646  301.0  232.585136  1.237650e+18  21.938177   \n",
       "\n",
       "                g          r          i          z          ra        dec  \\\n",
       "class                                                                       \n",
       "GALAXY  21.906185  20.295857  19.382390  18.949002  159.208621  15.638214   \n",
       "QSO     18.616896  20.721379  20.551191  20.324398  168.267999  22.607516   \n",
       "STAR    20.432247  19.942759  19.693122  19.539174  158.363837  11.580710   \n",
       "\n",
       "           specobjid        plate           mjd     fiberid  redshift  \n",
       "class                                                                  \n",
       "GALAXY  5.299049e+18  4706.373388  55747.852086  523.408521  0.503228  \n",
       "QSO     5.440519e+18  4832.024497  55821.520737  520.322338  2.110945  \n",
       "STAR    5.158543e+18  4581.587941  55678.469551  487.106170  0.000170  "
      ]
     },
     "execution_count": 18,
     "metadata": {},
     "output_type": "execute_result"
    }
   ],
   "source": [
    "sdss_data.groupby('class').mean()"
   ]
  },
  {
   "cell_type": "code",
   "execution_count": 19,
   "id": "binary-examination",
   "metadata": {
    "lines_to_next_cell": 0,
    "title": "codecell"
   },
   "outputs": [],
   "source": [
    "# removing redundant columns\n",
    "# most of them refers to some kind of an id\n",
    "\n",
    "cols_to_drop = ['objid', 'specobjid', 'camcol',\n",
    "                'rerun', 'field', 'plate', 'fiberid', 'run']\n",
    "sdss_data.drop(columns=cols_to_drop, inplace=True)"
   ]
  },
  {
   "cell_type": "markdown",
   "id": "9400aae7-fba7-4486-9ef6-897ecff4c304",
   "metadata": {
    "lines_to_next_cell": 0,
    "title": "markdown"
   },
   "source": [
    "# Reducing dimensionality using PCA"
   ]
  },
  {
   "cell_type": "code",
   "execution_count": 20,
   "id": "b29cbc4c-f883-4d1e-95cc-9dcf411ddf46",
   "metadata": {
    "lines_to_next_cell": 0,
    "title": "codecell"
   },
   "outputs": [],
   "source": [
    "# Standarization\n",
    "filter_bands = ['u', 'g', 'r', 'i', 'z']\n",
    "\n",
    "filters = sdss_data.loc[:, filter_bands].values\n",
    "standarized_filters = StandardScaler().fit_transform(filters)"
   ]
  },
  {
   "cell_type": "code",
   "execution_count": 21,
   "id": "a3790480-8c80-4f13-90de-805609b90221",
   "metadata": {
    "lines_to_next_cell": 0,
    "title": "codecell"
   },
   "outputs": [],
   "source": [
    "# principal component analysis\n",
    "pca_u_g = PCA(n_components=1)\n",
    "pca_r_i_z = PCA(n_components=2)\n",
    "sdss_pca_u_g = pd.DataFrame(pca_u_g.fit_transform(standarized_filters[:, :2]), columns=['PCA_u_g_0'])\n",
    "sdss_pca_r_i_z = pd.DataFrame(pca_r_i_z.fit_transform(standarized_filters[:, 2:]), columns=['PCA_r_i_z_0', 'PCA_r_i_z_1'])\n",
    "\n",
    "# remove old column and add \n",
    "sdss_after_pca = pd.concat((sdss_data, sdss_pca_r_i_z, sdss_pca_u_g), axis=1)\n",
    "sdss_after_pca.drop(filter_bands, axis=1, inplace=True)"
   ]
  },
  {
   "cell_type": "code",
   "execution_count": 22,
   "id": "exotic-surgery",
   "metadata": {
    "lines_to_next_cell": 0,
    "title": "codecell"
   },
   "outputs": [
    {
     "data": {
      "text/html": [
       "<div>\n",
       "<style scoped>\n",
       "    .dataframe tbody tr th:only-of-type {\n",
       "        vertical-align: middle;\n",
       "    }\n",
       "\n",
       "    .dataframe tbody tr th {\n",
       "        vertical-align: top;\n",
       "    }\n",
       "\n",
       "    .dataframe thead th {\n",
       "        text-align: right;\n",
       "    }\n",
       "</style>\n",
       "<table border=\"1\" class=\"dataframe\">\n",
       "  <thead>\n",
       "    <tr style=\"text-align: right;\">\n",
       "      <th></th>\n",
       "      <th>class</th>\n",
       "      <th>ra</th>\n",
       "      <th>dec</th>\n",
       "      <th>mjd</th>\n",
       "      <th>redshift</th>\n",
       "      <th>PCA_r_i_z_0</th>\n",
       "      <th>PCA_r_i_z_1</th>\n",
       "      <th>PCA_u_g_0</th>\n",
       "    </tr>\n",
       "  </thead>\n",
       "  <tbody>\n",
       "    <tr>\n",
       "      <th>0</th>\n",
       "      <td>QSO</td>\n",
       "      <td>219.725237</td>\n",
       "      <td>-0.709420</td>\n",
       "      <td>55325</td>\n",
       "      <td>2.205364</td>\n",
       "      <td>-1.341941</td>\n",
       "      <td>0.245071</td>\n",
       "      <td>0.013160</td>\n",
       "    </tr>\n",
       "    <tr>\n",
       "      <th>1</th>\n",
       "      <td>QSO</td>\n",
       "      <td>219.725237</td>\n",
       "      <td>-0.709420</td>\n",
       "      <td>55350</td>\n",
       "      <td>2.204978</td>\n",
       "      <td>-1.341941</td>\n",
       "      <td>0.245071</td>\n",
       "      <td>0.013160</td>\n",
       "    </tr>\n",
       "    <tr>\n",
       "      <th>2</th>\n",
       "      <td>QSO</td>\n",
       "      <td>220.268564</td>\n",
       "      <td>-0.658425</td>\n",
       "      <td>55352</td>\n",
       "      <td>0.556324</td>\n",
       "      <td>-0.102974</td>\n",
       "      <td>-0.301945</td>\n",
       "      <td>-0.017330</td>\n",
       "    </tr>\n",
       "    <tr>\n",
       "      <th>3</th>\n",
       "      <td>QSO</td>\n",
       "      <td>220.311647</td>\n",
       "      <td>-0.743340</td>\n",
       "      <td>55352</td>\n",
       "      <td>2.512770</td>\n",
       "      <td>-0.082033</td>\n",
       "      <td>0.318667</td>\n",
       "      <td>0.021085</td>\n",
       "    </tr>\n",
       "    <tr>\n",
       "      <th>4</th>\n",
       "      <td>QSO</td>\n",
       "      <td>220.353468</td>\n",
       "      <td>-0.633315</td>\n",
       "      <td>55352</td>\n",
       "      <td>2.199887</td>\n",
       "      <td>-2.965068</td>\n",
       "      <td>0.954886</td>\n",
       "      <td>-0.003457</td>\n",
       "    </tr>\n",
       "  </tbody>\n",
       "</table>\n",
       "</div>"
      ],
      "text/plain": [
       "  class          ra       dec    mjd  redshift  PCA_r_i_z_0  PCA_r_i_z_1  \\\n",
       "0   QSO  219.725237 -0.709420  55325  2.205364    -1.341941     0.245071   \n",
       "1   QSO  219.725237 -0.709420  55350  2.204978    -1.341941     0.245071   \n",
       "2   QSO  220.268564 -0.658425  55352  0.556324    -0.102974    -0.301945   \n",
       "3   QSO  220.311647 -0.743340  55352  2.512770    -0.082033     0.318667   \n",
       "4   QSO  220.353468 -0.633315  55352  2.199887    -2.965068     0.954886   \n",
       "\n",
       "   PCA_u_g_0  \n",
       "0   0.013160  \n",
       "1   0.013160  \n",
       "2  -0.017330  \n",
       "3   0.021085  \n",
       "4  -0.003457  "
      ]
     },
     "execution_count": 22,
     "metadata": {},
     "output_type": "execute_result"
    }
   ],
   "source": [
    "sdss_after_pca.head()"
   ]
  },
  {
   "cell_type": "markdown",
   "id": "d4746ebf-73c5-40b4-954a-f9fbc792a38e",
   "metadata": {
    "lines_to_next_cell": 0,
    "title": "markdown"
   },
   "source": [
    "# Splitting data"
   ]
  },
  {
   "cell_type": "code",
   "execution_count": 23,
   "id": "utility-boundary",
   "metadata": {
    "lines_to_next_cell": 0,
    "title": "codecell"
   },
   "outputs": [],
   "source": [
    "X = sdss_after_pca.drop('class', axis=1)\n",
    "y = pd.get_dummies(sdss_after_pca['class'])"
   ]
  },
  {
   "cell_type": "code",
   "execution_count": 24,
   "id": "criminal-correction",
   "metadata": {
    "lines_to_next_cell": 0,
    "title": "codecell"
   },
   "outputs": [],
   "source": [
    "# train test split\n",
    "X_train, X_test, y_train, y_test = train_test_split(\n",
    "    X, y, train_size=.8, random_state=77)\n",
    "\n",
    "# Standarization\n",
    "scaler = RobustScaler()\n",
    "X_train = scaler.fit_transform(X_train)\n",
    "X_test = scaler.transform(X_test)"
   ]
  },
  {
   "cell_type": "code",
   "execution_count": 25,
   "id": "73e1bfef-abd9-42f2-ac3d-e103c70e9ce0",
   "metadata": {},
   "outputs": [],
   "source": [
    "# create validation set\n",
    "X_train, X_val, y_train, y_val = train_test_split(X_train, y_train, test_size=.2, random_state=77)"
   ]
  },
  {
   "cell_type": "markdown",
   "id": "50d29372-ab06-4cbf-9376-b9b25fe642d2",
   "metadata": {},
   "source": [
    "# Classification"
   ]
  },
  {
   "cell_type": "code",
   "execution_count": 26,
   "id": "olive-longitude",
   "metadata": {
    "title": "codecell"
   },
   "outputs": [],
   "source": [
    "network = nn.NeuralNetwork(nn.tanh)\n",
    "\n",
    "network.add(nn.Dense(7, 14))\n",
    "network.add(nn.Dense(14, 10))\n",
    "network.add(nn.Dense(10, 5))\n",
    "network.add(nn.Dense(5, 3))"
   ]
  },
  {
   "cell_type": "code",
   "execution_count": 27,
   "id": "understood-adult",
   "metadata": {
    "title": "codecell"
   },
   "outputs": [
    {
     "name": "stdout",
     "output_type": "stream",
     "text": [
      "Generation 1/500\tbest cost = 0.43373\ttrain acc=>0.586\tval acc=>0.591\n",
      "Generation 2/500\tbest cost = 0.43373\ttrain acc=>0.586\tval acc=>0.591\n",
      "Generation 3/500\tbest cost = 0.43373\ttrain acc=>0.586\tval acc=>0.591\n",
      "Generation 4/500\tbest cost = 0.43373\ttrain acc=>0.586\tval acc=>0.591\n",
      "Generation 5/500\tbest cost = 0.43373\ttrain acc=>0.586\tval acc=>0.591\n",
      "Generation 6/500\tbest cost = 0.43373\ttrain acc=>0.586\tval acc=>0.591\n",
      "Generation 7/500\tbest cost = 0.43373\ttrain acc=>0.586\tval acc=>0.591\n",
      "Generation 8/500\tbest cost = 0.36653\ttrain acc=>0.506\tval acc=>0.506\n",
      "Generation 9/500\tbest cost = 0.36653\ttrain acc=>0.506\tval acc=>0.506\n",
      "Generation 10/500\tbest cost = 0.36653\ttrain acc=>0.506\tval acc=>0.506\n",
      "Generation 11/500\tbest cost = 0.36653\ttrain acc=>0.506\tval acc=>0.506\n",
      "Generation 12/500\tbest cost = 0.36653\ttrain acc=>0.506\tval acc=>0.506\n",
      "Generation 13/500\tbest cost = 0.36653\ttrain acc=>0.506\tval acc=>0.506\n",
      "Generation 14/500\tbest cost = 0.36653\ttrain acc=>0.506\tval acc=>0.506\n",
      "Generation 15/500\tbest cost = 0.36653\ttrain acc=>0.506\tval acc=>0.506\n",
      "Generation 16/500\tbest cost = 0.36653\ttrain acc=>0.506\tval acc=>0.506\n",
      "Generation 17/500\tbest cost = 0.36653\ttrain acc=>0.506\tval acc=>0.506\n",
      "Generation 18/500\tbest cost = 0.36653\ttrain acc=>0.506\tval acc=>0.506\n",
      "Generation 19/500\tbest cost = 0.36653\ttrain acc=>0.506\tval acc=>0.506\n",
      "Generation 20/500\tbest cost = 0.36653\ttrain acc=>0.506\tval acc=>0.506\n",
      "Generation 21/500\tbest cost = 0.36653\ttrain acc=>0.506\tval acc=>0.506\n",
      "Generation 22/500\tbest cost = 0.36653\ttrain acc=>0.506\tval acc=>0.506\n",
      "Generation 23/500\tbest cost = 0.36653\ttrain acc=>0.506\tval acc=>0.506\n",
      "Generation 24/500\tbest cost = 0.36653\ttrain acc=>0.506\tval acc=>0.506\n",
      "Generation 25/500\tbest cost = 0.36653\ttrain acc=>0.506\tval acc=>0.506\n",
      "Generation 26/500\tbest cost = 0.36653\ttrain acc=>0.506\tval acc=>0.506\n",
      "Generation 27/500\tbest cost = 0.36653\ttrain acc=>0.506\tval acc=>0.506\n",
      "Generation 28/500\tbest cost = 0.36653\ttrain acc=>0.506\tval acc=>0.506\n",
      "Generation 29/500\tbest cost = 0.36653\ttrain acc=>0.506\tval acc=>0.506\n",
      "Generation 30/500\tbest cost = 0.36653\ttrain acc=>0.506\tval acc=>0.506\n",
      "Generation 31/500\tbest cost = 0.36653\ttrain acc=>0.506\tval acc=>0.506\n",
      "Generation 32/500\tbest cost = 0.36653\ttrain acc=>0.506\tval acc=>0.506\n",
      "Generation 33/500\tbest cost = 0.36653\ttrain acc=>0.506\tval acc=>0.506\n",
      "Generation 34/500\tbest cost = 0.36653\ttrain acc=>0.506\tval acc=>0.506\n",
      "Generation 35/500\tbest cost = 0.36653\ttrain acc=>0.506\tval acc=>0.506\n",
      "Generation 36/500\tbest cost = 0.36653\ttrain acc=>0.506\tval acc=>0.506\n",
      "Generation 37/500\tbest cost = 0.35136\ttrain acc=>0.683\tval acc=>0.675\n",
      "Generation 38/500\tbest cost = 0.33455\ttrain acc=>0.661\tval acc=>0.656\n",
      "Generation 39/500\tbest cost = 0.33455\ttrain acc=>0.661\tval acc=>0.656\n",
      "Generation 40/500\tbest cost = 0.33455\ttrain acc=>0.661\tval acc=>0.656\n",
      "Generation 41/500\tbest cost = 0.33455\ttrain acc=>0.661\tval acc=>0.656\n",
      "Generation 42/500\tbest cost = 0.33455\ttrain acc=>0.661\tval acc=>0.656\n",
      "Generation 43/500\tbest cost = 0.33455\ttrain acc=>0.661\tval acc=>0.656\n",
      "Generation 44/500\tbest cost = 0.33455\ttrain acc=>0.661\tval acc=>0.656\n",
      "Generation 45/500\tbest cost = 0.32889\ttrain acc=>0.681\tval acc=>0.676\n",
      "Generation 46/500\tbest cost = 0.31832\ttrain acc=>0.638\tval acc=>0.638\n",
      "Generation 47/500\tbest cost = 0.25507\ttrain acc=>0.834\tval acc=>0.835\n",
      "Generation 48/500\tbest cost = 0.25507\ttrain acc=>0.834\tval acc=>0.835\n",
      "Generation 49/500\tbest cost = 0.25507\ttrain acc=>0.834\tval acc=>0.835\n",
      "Generation 50/500\tbest cost = 0.25507\ttrain acc=>0.834\tval acc=>0.835\n",
      "Generation 51/500\tbest cost = 0.25507\ttrain acc=>0.834\tval acc=>0.835\n",
      "Generation 52/500\tbest cost = 0.25507\ttrain acc=>0.834\tval acc=>0.835\n",
      "Generation 53/500\tbest cost = 0.25507\ttrain acc=>0.834\tval acc=>0.835\n",
      "Generation 54/500\tbest cost = 0.25288\ttrain acc=>0.748\tval acc=>0.749\n",
      "Generation 55/500\tbest cost = 0.24522\ttrain acc=>0.747\tval acc=>0.752\n",
      "Generation 56/500\tbest cost = 0.24522\ttrain acc=>0.747\tval acc=>0.752\n",
      "Generation 57/500\tbest cost = 0.24522\ttrain acc=>0.747\tval acc=>0.752\n",
      "Generation 58/500\tbest cost = 0.24522\ttrain acc=>0.747\tval acc=>0.752\n",
      "Generation 59/500\tbest cost = 0.24522\ttrain acc=>0.747\tval acc=>0.752\n",
      "Generation 60/500\tbest cost = 0.23514\ttrain acc=>0.768\tval acc=>0.752\n",
      "Generation 61/500\tbest cost = 0.23514\ttrain acc=>0.768\tval acc=>0.752\n",
      "Generation 62/500\tbest cost = 0.23514\ttrain acc=>0.768\tval acc=>0.752\n",
      "Generation 63/500\tbest cost = 0.23514\ttrain acc=>0.768\tval acc=>0.752\n",
      "Generation 64/500\tbest cost = 0.23514\ttrain acc=>0.768\tval acc=>0.752\n",
      "Generation 65/500\tbest cost = 0.22576\ttrain acc=>0.752\tval acc=>0.751\n",
      "Generation 66/500\tbest cost = 0.22576\ttrain acc=>0.752\tval acc=>0.751\n",
      "Generation 67/500\tbest cost = 0.22576\ttrain acc=>0.752\tval acc=>0.751\n",
      "Generation 68/500\tbest cost = 0.22576\ttrain acc=>0.752\tval acc=>0.751\n",
      "Generation 69/500\tbest cost = 0.22514\ttrain acc=>0.753\tval acc=>0.751\n",
      "Generation 70/500\tbest cost = 0.22514\ttrain acc=>0.753\tval acc=>0.751\n",
      "Generation 71/500\tbest cost = 0.22514\ttrain acc=>0.753\tval acc=>0.751\n",
      "Generation 72/500\tbest cost = 0.22514\ttrain acc=>0.753\tval acc=>0.751\n",
      "Generation 73/500\tbest cost = 0.22514\ttrain acc=>0.753\tval acc=>0.751\n",
      "Generation 74/500\tbest cost = 0.22414\ttrain acc=>0.835\tval acc=>0.835\n",
      "Generation 75/500\tbest cost = 0.22413\ttrain acc=>0.739\tval acc=>0.738\n",
      "Generation 76/500\tbest cost = 0.21502\ttrain acc=>0.785\tval acc=>0.778\n",
      "Generation 77/500\tbest cost = 0.21502\ttrain acc=>0.785\tval acc=>0.778\n",
      "Generation 78/500\tbest cost = 0.21502\ttrain acc=>0.785\tval acc=>0.778\n",
      "Generation 79/500\tbest cost = 0.21502\ttrain acc=>0.785\tval acc=>0.778\n",
      "Generation 80/500\tbest cost = 0.21423\ttrain acc=>0.830\tval acc=>0.824\n",
      "Generation 81/500\tbest cost = 0.20865\ttrain acc=>0.775\tval acc=>0.769\n",
      "Generation 82/500\tbest cost = 0.20235\ttrain acc=>0.760\tval acc=>0.757\n",
      "Generation 83/500\tbest cost = 0.19589\ttrain acc=>0.741\tval acc=>0.734\n",
      "Generation 84/500\tbest cost = 0.18437\ttrain acc=>0.750\tval acc=>0.743\n",
      "Generation 85/500\tbest cost = 0.18437\ttrain acc=>0.750\tval acc=>0.743\n",
      "Generation 86/500\tbest cost = 0.17658\ttrain acc=>0.760\tval acc=>0.749\n",
      "Generation 87/500\tbest cost = 0.17658\ttrain acc=>0.760\tval acc=>0.749\n",
      "Generation 88/500\tbest cost = 0.17246\ttrain acc=>0.871\tval acc=>0.873\n",
      "Generation 89/500\tbest cost = 0.17246\ttrain acc=>0.871\tval acc=>0.873\n",
      "Generation 90/500\tbest cost = 0.16851\ttrain acc=>0.889\tval acc=>0.897\n",
      "Generation 91/500\tbest cost = 0.16789\ttrain acc=>0.892\tval acc=>0.897\n",
      "Generation 92/500\tbest cost = 0.16209\ttrain acc=>0.872\tval acc=>0.882\n",
      "Generation 93/500\tbest cost = 0.15584\ttrain acc=>0.883\tval acc=>0.887\n",
      "Generation 94/500\tbest cost = 0.14135\ttrain acc=>0.892\tval acc=>0.901\n",
      "Generation 95/500\tbest cost = 0.14135\ttrain acc=>0.892\tval acc=>0.901\n",
      "Generation 96/500\tbest cost = 0.14135\ttrain acc=>0.892\tval acc=>0.901\n",
      "Generation 97/500\tbest cost = 0.13743\ttrain acc=>0.898\tval acc=>0.905\n",
      "Generation 98/500\tbest cost = 0.13678\ttrain acc=>0.900\tval acc=>0.910\n",
      "Generation 99/500\tbest cost = 0.13077\ttrain acc=>0.908\tval acc=>0.915\n",
      "Generation 100/500\tbest cost = 0.13077\ttrain acc=>0.908\tval acc=>0.915\n",
      "Generation 101/500\tbest cost = 0.12479\ttrain acc=>0.907\tval acc=>0.914\n",
      "Generation 102/500\tbest cost = 0.12479\ttrain acc=>0.907\tval acc=>0.914\n",
      "Generation 103/500\tbest cost = 0.12305\ttrain acc=>0.918\tval acc=>0.923\n",
      "Generation 104/500\tbest cost = 0.12305\ttrain acc=>0.918\tval acc=>0.923\n",
      "Generation 105/500\tbest cost = 0.12305\ttrain acc=>0.918\tval acc=>0.923\n",
      "Generation 106/500\tbest cost = 0.12193\ttrain acc=>0.918\tval acc=>0.923\n",
      "Generation 107/500\tbest cost = 0.12193\ttrain acc=>0.918\tval acc=>0.923\n",
      "Generation 108/500\tbest cost = 0.12193\ttrain acc=>0.918\tval acc=>0.923\n",
      "Generation 109/500\tbest cost = 0.12193\ttrain acc=>0.918\tval acc=>0.923\n",
      "Generation 110/500\tbest cost = 0.12077\ttrain acc=>0.919\tval acc=>0.924\n",
      "Generation 111/500\tbest cost = 0.12077\ttrain acc=>0.919\tval acc=>0.924\n",
      "Generation 112/500\tbest cost = 0.11907\ttrain acc=>0.918\tval acc=>0.920\n",
      "Generation 113/500\tbest cost = 0.11790\ttrain acc=>0.917\tval acc=>0.921\n",
      "Generation 114/500\tbest cost = 0.11771\ttrain acc=>0.918\tval acc=>0.921\n",
      "Generation 115/500\tbest cost = 0.11771\ttrain acc=>0.918\tval acc=>0.921\n",
      "Generation 116/500\tbest cost = 0.11702\ttrain acc=>0.916\tval acc=>0.923\n",
      "Generation 117/500\tbest cost = 0.11466\ttrain acc=>0.915\tval acc=>0.920\n",
      "Generation 118/500\tbest cost = 0.11340\ttrain acc=>0.915\tval acc=>0.923\n",
      "Generation 119/500\tbest cost = 0.11312\ttrain acc=>0.916\tval acc=>0.922\n",
      "Generation 120/500\tbest cost = 0.11274\ttrain acc=>0.915\tval acc=>0.921\n",
      "Generation 121/500\tbest cost = 0.11182\ttrain acc=>0.913\tval acc=>0.920\n",
      "Generation 122/500\tbest cost = 0.11121\ttrain acc=>0.908\tval acc=>0.916\n",
      "Generation 123/500\tbest cost = 0.11013\ttrain acc=>0.911\tval acc=>0.916\n",
      "Generation 124/500\tbest cost = 0.10858\ttrain acc=>0.912\tval acc=>0.915\n",
      "Generation 125/500\tbest cost = 0.10858\ttrain acc=>0.912\tval acc=>0.915\n",
      "Generation 126/500\tbest cost = 0.10690\ttrain acc=>0.910\tval acc=>0.914\n",
      "Generation 127/500\tbest cost = 0.10618\ttrain acc=>0.914\tval acc=>0.914\n",
      "Generation 128/500\tbest cost = 0.10461\ttrain acc=>0.912\tval acc=>0.910\n",
      "Generation 129/500\tbest cost = 0.10198\ttrain acc=>0.911\tval acc=>0.912\n",
      "Generation 130/500\tbest cost = 0.10112\ttrain acc=>0.912\tval acc=>0.912\n",
      "Generation 131/500\tbest cost = 0.09829\ttrain acc=>0.915\tval acc=>0.917\n",
      "Generation 132/500\tbest cost = 0.09727\ttrain acc=>0.917\tval acc=>0.921\n",
      "Generation 133/500\tbest cost = 0.09505\ttrain acc=>0.927\tval acc=>0.925\n",
      "Generation 134/500\tbest cost = 0.09430\ttrain acc=>0.927\tval acc=>0.927\n",
      "Generation 135/500\tbest cost = 0.09430\ttrain acc=>0.927\tval acc=>0.927\n",
      "Generation 136/500\tbest cost = 0.09371\ttrain acc=>0.923\tval acc=>0.923\n",
      "Generation 137/500\tbest cost = 0.09371\ttrain acc=>0.923\tval acc=>0.923\n",
      "Generation 138/500\tbest cost = 0.09337\ttrain acc=>0.925\tval acc=>0.926\n",
      "Generation 139/500\tbest cost = 0.09317\ttrain acc=>0.917\tval acc=>0.913\n",
      "Generation 140/500\tbest cost = 0.09270\ttrain acc=>0.919\tval acc=>0.917\n",
      "Generation 141/500\tbest cost = 0.09140\ttrain acc=>0.921\tval acc=>0.918\n",
      "Generation 142/500\tbest cost = 0.09046\ttrain acc=>0.911\tval acc=>0.909\n",
      "Generation 143/500\tbest cost = 0.08985\ttrain acc=>0.923\tval acc=>0.921\n",
      "Generation 144/500\tbest cost = 0.08833\ttrain acc=>0.925\tval acc=>0.921\n",
      "Generation 145/500\tbest cost = 0.08660\ttrain acc=>0.925\tval acc=>0.924\n",
      "Generation 146/500\tbest cost = 0.08660\ttrain acc=>0.925\tval acc=>0.924\n",
      "Generation 147/500\tbest cost = 0.08524\ttrain acc=>0.935\tval acc=>0.937\n",
      "Generation 148/500\tbest cost = 0.08506\ttrain acc=>0.932\tval acc=>0.932\n",
      "Generation 149/500\tbest cost = 0.08224\ttrain acc=>0.937\tval acc=>0.939\n",
      "Generation 150/500\tbest cost = 0.08224\ttrain acc=>0.937\tval acc=>0.939\n",
      "Generation 151/500\tbest cost = 0.08028\ttrain acc=>0.935\tval acc=>0.934\n",
      "Generation 152/500\tbest cost = 0.07931\ttrain acc=>0.932\tval acc=>0.932\n",
      "Generation 153/500\tbest cost = 0.07721\ttrain acc=>0.934\tval acc=>0.933\n",
      "Generation 154/500\tbest cost = 0.07721\ttrain acc=>0.934\tval acc=>0.933\n",
      "Generation 155/500\tbest cost = 0.07721\ttrain acc=>0.934\tval acc=>0.933\n",
      "Generation 156/500\tbest cost = 0.07700\ttrain acc=>0.930\tval acc=>0.929\n",
      "Generation 157/500\tbest cost = 0.07530\ttrain acc=>0.933\tval acc=>0.932\n",
      "Generation 158/500\tbest cost = 0.07482\ttrain acc=>0.935\tval acc=>0.933\n",
      "Generation 159/500\tbest cost = 0.07407\ttrain acc=>0.936\tval acc=>0.936\n",
      "Generation 160/500\tbest cost = 0.07407\ttrain acc=>0.936\tval acc=>0.936\n",
      "Generation 161/500\tbest cost = 0.07407\ttrain acc=>0.936\tval acc=>0.936\n",
      "Generation 162/500\tbest cost = 0.07407\ttrain acc=>0.936\tval acc=>0.936\n",
      "Generation 163/500\tbest cost = 0.07407\ttrain acc=>0.936\tval acc=>0.936\n",
      "Generation 164/500\tbest cost = 0.07316\ttrain acc=>0.932\tval acc=>0.933\n",
      "Generation 165/500\tbest cost = 0.07267\ttrain acc=>0.934\tval acc=>0.934\n",
      "Generation 166/500\tbest cost = 0.07233\ttrain acc=>0.936\tval acc=>0.935\n",
      "Generation 167/500\tbest cost = 0.07171\ttrain acc=>0.937\tval acc=>0.935\n",
      "Generation 168/500\tbest cost = 0.07171\ttrain acc=>0.937\tval acc=>0.935\n",
      "Generation 169/500\tbest cost = 0.07171\ttrain acc=>0.937\tval acc=>0.935\n",
      "Generation 170/500\tbest cost = 0.07171\ttrain acc=>0.937\tval acc=>0.935\n",
      "Generation 171/500\tbest cost = 0.07150\ttrain acc=>0.937\tval acc=>0.936\n",
      "Generation 172/500\tbest cost = 0.07045\ttrain acc=>0.938\tval acc=>0.936\n",
      "Generation 173/500\tbest cost = 0.07004\ttrain acc=>0.937\tval acc=>0.936\n",
      "Generation 174/500\tbest cost = 0.06947\ttrain acc=>0.938\tval acc=>0.937\n",
      "Generation 175/500\tbest cost = 0.06947\ttrain acc=>0.938\tval acc=>0.937\n",
      "Generation 176/500\tbest cost = 0.06947\ttrain acc=>0.938\tval acc=>0.937\n",
      "Generation 177/500\tbest cost = 0.06843\ttrain acc=>0.939\tval acc=>0.939\n",
      "Generation 178/500\tbest cost = 0.06843\ttrain acc=>0.939\tval acc=>0.939\n",
      "Generation 179/500\tbest cost = 0.06762\ttrain acc=>0.941\tval acc=>0.940\n",
      "Generation 180/500\tbest cost = 0.06721\ttrain acc=>0.943\tval acc=>0.944\n",
      "Generation 181/500\tbest cost = 0.06667\ttrain acc=>0.941\tval acc=>0.939\n",
      "Generation 182/500\tbest cost = 0.06667\ttrain acc=>0.941\tval acc=>0.939\n",
      "Generation 183/500\tbest cost = 0.06629\ttrain acc=>0.945\tval acc=>0.943\n",
      "Generation 184/500\tbest cost = 0.06519\ttrain acc=>0.943\tval acc=>0.939\n",
      "Generation 185/500\tbest cost = 0.06491\ttrain acc=>0.945\tval acc=>0.943\n",
      "Generation 186/500\tbest cost = 0.06456\ttrain acc=>0.946\tval acc=>0.944\n",
      "Generation 187/500\tbest cost = 0.06334\ttrain acc=>0.947\tval acc=>0.944\n",
      "Generation 188/500\tbest cost = 0.06263\ttrain acc=>0.948\tval acc=>0.945\n",
      "Generation 189/500\tbest cost = 0.06221\ttrain acc=>0.950\tval acc=>0.946\n",
      "Generation 190/500\tbest cost = 0.06128\ttrain acc=>0.951\tval acc=>0.948\n",
      "Generation 191/500\tbest cost = 0.06058\ttrain acc=>0.951\tval acc=>0.946\n",
      "Generation 192/500\tbest cost = 0.05927\ttrain acc=>0.952\tval acc=>0.948\n",
      "Generation 193/500\tbest cost = 0.05836\ttrain acc=>0.953\tval acc=>0.949\n",
      "Generation 194/500\tbest cost = 0.05782\ttrain acc=>0.953\tval acc=>0.949\n",
      "Generation 195/500\tbest cost = 0.05690\ttrain acc=>0.954\tval acc=>0.951\n",
      "Generation 196/500\tbest cost = 0.05663\ttrain acc=>0.951\tval acc=>0.947\n",
      "Generation 197/500\tbest cost = 0.05593\ttrain acc=>0.954\tval acc=>0.950\n",
      "Generation 198/500\tbest cost = 0.05553\ttrain acc=>0.954\tval acc=>0.949\n",
      "Generation 199/500\tbest cost = 0.05496\ttrain acc=>0.954\tval acc=>0.951\n",
      "Generation 200/500\tbest cost = 0.05447\ttrain acc=>0.953\tval acc=>0.950\n",
      "Generation 201/500\tbest cost = 0.05357\ttrain acc=>0.957\tval acc=>0.953\n",
      "Generation 202/500\tbest cost = 0.05321\ttrain acc=>0.957\tval acc=>0.952\n",
      "Generation 203/500\tbest cost = 0.05274\ttrain acc=>0.958\tval acc=>0.953\n",
      "Generation 204/500\tbest cost = 0.05250\ttrain acc=>0.958\tval acc=>0.955\n",
      "Generation 205/500\tbest cost = 0.05185\ttrain acc=>0.959\tval acc=>0.955\n",
      "Generation 206/500\tbest cost = 0.05160\ttrain acc=>0.959\tval acc=>0.957\n",
      "Generation 207/500\tbest cost = 0.05106\ttrain acc=>0.960\tval acc=>0.961\n",
      "Generation 208/500\tbest cost = 0.05083\ttrain acc=>0.959\tval acc=>0.959\n",
      "Generation 209/500\tbest cost = 0.05077\ttrain acc=>0.960\tval acc=>0.961\n",
      "Generation 210/500\tbest cost = 0.05044\ttrain acc=>0.960\tval acc=>0.959\n",
      "Generation 211/500\tbest cost = 0.04998\ttrain acc=>0.960\tval acc=>0.959\n",
      "Generation 212/500\tbest cost = 0.04971\ttrain acc=>0.960\tval acc=>0.961\n",
      "Generation 213/500\tbest cost = 0.04936\ttrain acc=>0.960\tval acc=>0.959\n",
      "Generation 214/500\tbest cost = 0.04901\ttrain acc=>0.960\tval acc=>0.959\n",
      "Generation 215/500\tbest cost = 0.04856\ttrain acc=>0.960\tval acc=>0.958\n",
      "Generation 216/500\tbest cost = 0.04789\ttrain acc=>0.960\tval acc=>0.957\n",
      "Generation 217/500\tbest cost = 0.04707\ttrain acc=>0.962\tval acc=>0.960\n",
      "Generation 218/500\tbest cost = 0.04626\ttrain acc=>0.962\tval acc=>0.962\n",
      "Generation 219/500\tbest cost = 0.04601\ttrain acc=>0.962\tval acc=>0.964\n",
      "Generation 220/500\tbest cost = 0.04499\ttrain acc=>0.963\tval acc=>0.966\n",
      "Generation 221/500\tbest cost = 0.04452\ttrain acc=>0.964\tval acc=>0.966\n",
      "Generation 222/500\tbest cost = 0.04415\ttrain acc=>0.965\tval acc=>0.967\n",
      "Generation 223/500\tbest cost = 0.04375\ttrain acc=>0.965\tval acc=>0.969\n",
      "Generation 224/500\tbest cost = 0.04327\ttrain acc=>0.966\tval acc=>0.970\n",
      "Generation 225/500\tbest cost = 0.04268\ttrain acc=>0.965\tval acc=>0.970\n",
      "Generation 226/500\tbest cost = 0.04231\ttrain acc=>0.966\tval acc=>0.971\n",
      "Generation 227/500\tbest cost = 0.04218\ttrain acc=>0.967\tval acc=>0.973\n",
      "Generation 228/500\tbest cost = 0.04183\ttrain acc=>0.968\tval acc=>0.972\n",
      "Generation 229/500\tbest cost = 0.04155\ttrain acc=>0.967\tval acc=>0.972\n",
      "Generation 230/500\tbest cost = 0.04155\ttrain acc=>0.967\tval acc=>0.972\n",
      "Generation 231/500\tbest cost = 0.04152\ttrain acc=>0.967\tval acc=>0.974\n",
      "Generation 232/500\tbest cost = 0.04152\ttrain acc=>0.967\tval acc=>0.974\n",
      "Generation 233/500\tbest cost = 0.04113\ttrain acc=>0.968\tval acc=>0.973\n",
      "Generation 234/500\tbest cost = 0.04071\ttrain acc=>0.966\tval acc=>0.971\n",
      "Generation 235/500\tbest cost = 0.04059\ttrain acc=>0.967\tval acc=>0.973\n",
      "Generation 236/500\tbest cost = 0.04047\ttrain acc=>0.966\tval acc=>0.970\n",
      "Generation 237/500\tbest cost = 0.04021\ttrain acc=>0.966\tval acc=>0.969\n",
      "Generation 238/500\tbest cost = 0.03996\ttrain acc=>0.968\tval acc=>0.973\n",
      "Generation 239/500\tbest cost = 0.03964\ttrain acc=>0.967\tval acc=>0.972\n",
      "Generation 240/500\tbest cost = 0.03939\ttrain acc=>0.967\tval acc=>0.971\n",
      "Generation 241/500\tbest cost = 0.03936\ttrain acc=>0.967\tval acc=>0.973\n",
      "Generation 242/500\tbest cost = 0.03913\ttrain acc=>0.968\tval acc=>0.973\n",
      "Generation 243/500\tbest cost = 0.03906\ttrain acc=>0.967\tval acc=>0.971\n",
      "Generation 244/500\tbest cost = 0.03903\ttrain acc=>0.967\tval acc=>0.974\n",
      "Generation 245/500\tbest cost = 0.03885\ttrain acc=>0.967\tval acc=>0.971\n",
      "Generation 246/500\tbest cost = 0.03849\ttrain acc=>0.967\tval acc=>0.972\n",
      "Generation 247/500\tbest cost = 0.03848\ttrain acc=>0.967\tval acc=>0.972\n",
      "Generation 248/500\tbest cost = 0.03839\ttrain acc=>0.968\tval acc=>0.973\n",
      "Generation 249/500\tbest cost = 0.03832\ttrain acc=>0.967\tval acc=>0.972\n",
      "Generation 250/500\tbest cost = 0.03832\ttrain acc=>0.967\tval acc=>0.972\n",
      "Generation 251/500\tbest cost = 0.03832\ttrain acc=>0.967\tval acc=>0.972\n",
      "Generation 252/500\tbest cost = 0.03826\ttrain acc=>0.967\tval acc=>0.972\n",
      "Generation 253/500\tbest cost = 0.03826\ttrain acc=>0.967\tval acc=>0.972\n",
      "Generation 254/500\tbest cost = 0.03822\ttrain acc=>0.968\tval acc=>0.973\n",
      "Generation 255/500\tbest cost = 0.03821\ttrain acc=>0.967\tval acc=>0.973\n",
      "Generation 256/500\tbest cost = 0.03821\ttrain acc=>0.967\tval acc=>0.973\n",
      "Generation 257/500\tbest cost = 0.03816\ttrain acc=>0.968\tval acc=>0.973\n",
      "Generation 258/500\tbest cost = 0.03804\ttrain acc=>0.967\tval acc=>0.972\n",
      "Generation 259/500\tbest cost = 0.03785\ttrain acc=>0.967\tval acc=>0.973\n",
      "Generation 260/500\tbest cost = 0.03765\ttrain acc=>0.968\tval acc=>0.973\n",
      "Generation 261/500\tbest cost = 0.03765\ttrain acc=>0.968\tval acc=>0.973\n",
      "Generation 262/500\tbest cost = 0.03765\ttrain acc=>0.968\tval acc=>0.973\n",
      "Generation 263/500\tbest cost = 0.03762\ttrain acc=>0.968\tval acc=>0.972\n",
      "Generation 264/500\tbest cost = 0.03756\ttrain acc=>0.967\tval acc=>0.973\n",
      "Generation 265/500\tbest cost = 0.03735\ttrain acc=>0.968\tval acc=>0.972\n",
      "Generation 266/500\tbest cost = 0.03726\ttrain acc=>0.968\tval acc=>0.972\n",
      "Generation 267/500\tbest cost = 0.03722\ttrain acc=>0.968\tval acc=>0.972\n",
      "Generation 268/500\tbest cost = 0.03722\ttrain acc=>0.968\tval acc=>0.972\n",
      "Generation 269/500\tbest cost = 0.03714\ttrain acc=>0.968\tval acc=>0.972\n",
      "Generation 270/500\tbest cost = 0.03710\ttrain acc=>0.968\tval acc=>0.972\n",
      "Generation 271/500\tbest cost = 0.03697\ttrain acc=>0.968\tval acc=>0.971\n",
      "Generation 272/500\tbest cost = 0.03687\ttrain acc=>0.968\tval acc=>0.972\n",
      "Generation 273/500\tbest cost = 0.03668\ttrain acc=>0.968\tval acc=>0.972\n",
      "Generation 274/500\tbest cost = 0.03655\ttrain acc=>0.968\tval acc=>0.973\n",
      "Generation 275/500\tbest cost = 0.03636\ttrain acc=>0.969\tval acc=>0.973\n",
      "Generation 276/500\tbest cost = 0.03615\ttrain acc=>0.968\tval acc=>0.975\n",
      "Generation 277/500\tbest cost = 0.03612\ttrain acc=>0.968\tval acc=>0.974\n",
      "Generation 278/500\tbest cost = 0.03612\ttrain acc=>0.968\tval acc=>0.974\n",
      "Generation 279/500\tbest cost = 0.03591\ttrain acc=>0.969\tval acc=>0.974\n",
      "Generation 280/500\tbest cost = 0.03587\ttrain acc=>0.968\tval acc=>0.973\n",
      "Generation 281/500\tbest cost = 0.03574\ttrain acc=>0.969\tval acc=>0.975\n",
      "Generation 282/500\tbest cost = 0.03559\ttrain acc=>0.969\tval acc=>0.974\n",
      "Generation 283/500\tbest cost = 0.03547\ttrain acc=>0.969\tval acc=>0.974\n",
      "Generation 284/500\tbest cost = 0.03535\ttrain acc=>0.969\tval acc=>0.975\n",
      "Generation 285/500\tbest cost = 0.03520\ttrain acc=>0.970\tval acc=>0.973\n",
      "Generation 286/500\tbest cost = 0.03512\ttrain acc=>0.969\tval acc=>0.974\n",
      "Generation 287/500\tbest cost = 0.03501\ttrain acc=>0.969\tval acc=>0.974\n",
      "Generation 288/500\tbest cost = 0.03491\ttrain acc=>0.970\tval acc=>0.974\n",
      "Generation 289/500\tbest cost = 0.03490\ttrain acc=>0.969\tval acc=>0.974\n",
      "Generation 290/500\tbest cost = 0.03473\ttrain acc=>0.969\tval acc=>0.973\n",
      "Generation 291/500\tbest cost = 0.03460\ttrain acc=>0.969\tval acc=>0.973\n",
      "Generation 292/500\tbest cost = 0.03439\ttrain acc=>0.969\tval acc=>0.973\n",
      "Generation 293/500\tbest cost = 0.03431\ttrain acc=>0.970\tval acc=>0.974\n",
      "Generation 294/500\tbest cost = 0.03424\ttrain acc=>0.970\tval acc=>0.974\n",
      "Generation 295/500\tbest cost = 0.03413\ttrain acc=>0.970\tval acc=>0.973\n",
      "Generation 296/500\tbest cost = 0.03396\ttrain acc=>0.970\tval acc=>0.973\n",
      "Generation 297/500\tbest cost = 0.03389\ttrain acc=>0.970\tval acc=>0.974\n",
      "Generation 298/500\tbest cost = 0.03375\ttrain acc=>0.970\tval acc=>0.974\n",
      "Generation 299/500\tbest cost = 0.03362\ttrain acc=>0.970\tval acc=>0.975\n",
      "Generation 300/500\tbest cost = 0.03351\ttrain acc=>0.970\tval acc=>0.975\n",
      "Generation 301/500\tbest cost = 0.03341\ttrain acc=>0.971\tval acc=>0.975\n",
      "Generation 302/500\tbest cost = 0.03340\ttrain acc=>0.971\tval acc=>0.975\n",
      "Generation 303/500\tbest cost = 0.03336\ttrain acc=>0.970\tval acc=>0.975\n",
      "Generation 304/500\tbest cost = 0.03330\ttrain acc=>0.971\tval acc=>0.977\n",
      "Generation 305/500\tbest cost = 0.03329\ttrain acc=>0.970\tval acc=>0.976\n",
      "Generation 306/500\tbest cost = 0.03323\ttrain acc=>0.970\tval acc=>0.976\n",
      "Generation 307/500\tbest cost = 0.03316\ttrain acc=>0.970\tval acc=>0.975\n",
      "Generation 308/500\tbest cost = 0.03300\ttrain acc=>0.971\tval acc=>0.977\n",
      "Generation 309/500\tbest cost = 0.03294\ttrain acc=>0.971\tval acc=>0.977\n",
      "Generation 310/500\tbest cost = 0.03288\ttrain acc=>0.971\tval acc=>0.977\n",
      "Generation 311/500\tbest cost = 0.03287\ttrain acc=>0.971\tval acc=>0.978\n",
      "Generation 312/500\tbest cost = 0.03287\ttrain acc=>0.971\tval acc=>0.978\n",
      "Generation 313/500\tbest cost = 0.03280\ttrain acc=>0.971\tval acc=>0.978\n",
      "Generation 314/500\tbest cost = 0.03280\ttrain acc=>0.971\tval acc=>0.978\n",
      "Generation 315/500\tbest cost = 0.03277\ttrain acc=>0.972\tval acc=>0.977\n",
      "Generation 316/500\tbest cost = 0.03271\ttrain acc=>0.971\tval acc=>0.977\n",
      "Generation 317/500\tbest cost = 0.03267\ttrain acc=>0.971\tval acc=>0.977\n",
      "Generation 318/500\tbest cost = 0.03266\ttrain acc=>0.971\tval acc=>0.977\n",
      "Generation 319/500\tbest cost = 0.03266\ttrain acc=>0.971\tval acc=>0.977\n",
      "Generation 320/500\tbest cost = 0.03261\ttrain acc=>0.971\tval acc=>0.975\n",
      "Generation 321/500\tbest cost = 0.03255\ttrain acc=>0.971\tval acc=>0.976\n",
      "Generation 322/500\tbest cost = 0.03252\ttrain acc=>0.971\tval acc=>0.977\n",
      "Generation 323/500\tbest cost = 0.03246\ttrain acc=>0.971\tval acc=>0.977\n",
      "Generation 324/500\tbest cost = 0.03237\ttrain acc=>0.971\tval acc=>0.977\n",
      "Generation 325/500\tbest cost = 0.03232\ttrain acc=>0.971\tval acc=>0.976\n",
      "Generation 326/500\tbest cost = 0.03223\ttrain acc=>0.971\tval acc=>0.976\n",
      "Generation 327/500\tbest cost = 0.03218\ttrain acc=>0.971\tval acc=>0.977\n",
      "Generation 328/500\tbest cost = 0.03210\ttrain acc=>0.971\tval acc=>0.977\n",
      "Generation 329/500\tbest cost = 0.03204\ttrain acc=>0.971\tval acc=>0.977\n",
      "Generation 330/500\tbest cost = 0.03193\ttrain acc=>0.971\tval acc=>0.977\n",
      "Generation 331/500\tbest cost = 0.03185\ttrain acc=>0.971\tval acc=>0.977\n",
      "Generation 332/500\tbest cost = 0.03185\ttrain acc=>0.971\tval acc=>0.977\n",
      "Generation 333/500\tbest cost = 0.03174\ttrain acc=>0.971\tval acc=>0.977\n",
      "Generation 334/500\tbest cost = 0.03165\ttrain acc=>0.971\tval acc=>0.976\n",
      "Generation 335/500\tbest cost = 0.03165\ttrain acc=>0.971\tval acc=>0.976\n",
      "Generation 336/500\tbest cost = 0.03160\ttrain acc=>0.971\tval acc=>0.976\n",
      "Generation 337/500\tbest cost = 0.03156\ttrain acc=>0.971\tval acc=>0.977\n",
      "Generation 338/500\tbest cost = 0.03148\ttrain acc=>0.971\tval acc=>0.975\n",
      "Generation 339/500\tbest cost = 0.03141\ttrain acc=>0.971\tval acc=>0.976\n",
      "Generation 340/500\tbest cost = 0.03138\ttrain acc=>0.971\tval acc=>0.976\n",
      "Generation 341/500\tbest cost = 0.03131\ttrain acc=>0.971\tval acc=>0.977\n",
      "Generation 342/500\tbest cost = 0.03130\ttrain acc=>0.971\tval acc=>0.977\n",
      "Generation 343/500\tbest cost = 0.03123\ttrain acc=>0.971\tval acc=>0.976\n",
      "Generation 344/500\tbest cost = 0.03118\ttrain acc=>0.971\tval acc=>0.976\n",
      "Generation 345/500\tbest cost = 0.03106\ttrain acc=>0.972\tval acc=>0.977\n",
      "Generation 346/500\tbest cost = 0.03102\ttrain acc=>0.972\tval acc=>0.976\n",
      "Generation 347/500\tbest cost = 0.03098\ttrain acc=>0.971\tval acc=>0.976\n",
      "Generation 348/500\tbest cost = 0.03089\ttrain acc=>0.972\tval acc=>0.976\n",
      "Generation 349/500\tbest cost = 0.03081\ttrain acc=>0.972\tval acc=>0.976\n",
      "Generation 350/500\tbest cost = 0.03080\ttrain acc=>0.972\tval acc=>0.976\n",
      "Generation 351/500\tbest cost = 0.03076\ttrain acc=>0.972\tval acc=>0.975\n",
      "Generation 352/500\tbest cost = 0.03072\ttrain acc=>0.971\tval acc=>0.976\n",
      "Generation 353/500\tbest cost = 0.03068\ttrain acc=>0.971\tval acc=>0.975\n",
      "Generation 354/500\tbest cost = 0.03064\ttrain acc=>0.972\tval acc=>0.975\n",
      "Generation 355/500\tbest cost = 0.03059\ttrain acc=>0.972\tval acc=>0.976\n",
      "Generation 356/500\tbest cost = 0.03057\ttrain acc=>0.972\tval acc=>0.976\n",
      "Generation 357/500\tbest cost = 0.03047\ttrain acc=>0.971\tval acc=>0.976\n",
      "Generation 358/500\tbest cost = 0.03042\ttrain acc=>0.972\tval acc=>0.976\n",
      "Generation 359/500\tbest cost = 0.03034\ttrain acc=>0.972\tval acc=>0.976\n",
      "Generation 360/500\tbest cost = 0.03029\ttrain acc=>0.972\tval acc=>0.977\n",
      "Generation 361/500\tbest cost = 0.03024\ttrain acc=>0.972\tval acc=>0.977\n",
      "Generation 362/500\tbest cost = 0.03020\ttrain acc=>0.972\tval acc=>0.978\n",
      "Generation 363/500\tbest cost = 0.03018\ttrain acc=>0.972\tval acc=>0.977\n",
      "Generation 364/500\tbest cost = 0.03015\ttrain acc=>0.972\tval acc=>0.978\n",
      "Generation 365/500\tbest cost = 0.03014\ttrain acc=>0.972\tval acc=>0.979\n",
      "Generation 366/500\tbest cost = 0.03013\ttrain acc=>0.972\tval acc=>0.979\n",
      "Generation 367/500\tbest cost = 0.03008\ttrain acc=>0.972\tval acc=>0.979\n",
      "Generation 368/500\tbest cost = 0.03004\ttrain acc=>0.972\tval acc=>0.979\n",
      "Generation 369/500\tbest cost = 0.03001\ttrain acc=>0.972\tval acc=>0.978\n",
      "Generation 370/500\tbest cost = 0.03001\ttrain acc=>0.972\tval acc=>0.978\n",
      "Generation 371/500\tbest cost = 0.02997\ttrain acc=>0.971\tval acc=>0.978\n",
      "Generation 372/500\tbest cost = 0.02993\ttrain acc=>0.972\tval acc=>0.978\n",
      "Generation 373/500\tbest cost = 0.02991\ttrain acc=>0.972\tval acc=>0.977\n",
      "Generation 374/500\tbest cost = 0.02986\ttrain acc=>0.972\tval acc=>0.978\n",
      "Generation 375/500\tbest cost = 0.02983\ttrain acc=>0.972\tval acc=>0.978\n",
      "Generation 376/500\tbest cost = 0.02980\ttrain acc=>0.972\tval acc=>0.977\n",
      "Generation 377/500\tbest cost = 0.02980\ttrain acc=>0.972\tval acc=>0.977\n",
      "Generation 378/500\tbest cost = 0.02977\ttrain acc=>0.972\tval acc=>0.978\n",
      "Generation 379/500\tbest cost = 0.02974\ttrain acc=>0.972\tval acc=>0.978\n",
      "Generation 380/500\tbest cost = 0.02971\ttrain acc=>0.972\tval acc=>0.978\n",
      "Generation 381/500\tbest cost = 0.02967\ttrain acc=>0.972\tval acc=>0.977\n",
      "Generation 382/500\tbest cost = 0.02965\ttrain acc=>0.972\tval acc=>0.978\n",
      "Generation 383/500\tbest cost = 0.02963\ttrain acc=>0.972\tval acc=>0.978\n",
      "Generation 384/500\tbest cost = 0.02959\ttrain acc=>0.972\tval acc=>0.978\n",
      "Generation 385/500\tbest cost = 0.02953\ttrain acc=>0.972\tval acc=>0.978\n",
      "Generation 386/500\tbest cost = 0.02949\ttrain acc=>0.972\tval acc=>0.978\n",
      "Generation 387/500\tbest cost = 0.02945\ttrain acc=>0.972\tval acc=>0.978\n",
      "Generation 388/500\tbest cost = 0.02941\ttrain acc=>0.972\tval acc=>0.978\n",
      "Generation 389/500\tbest cost = 0.02936\ttrain acc=>0.973\tval acc=>0.978\n",
      "Generation 390/500\tbest cost = 0.02935\ttrain acc=>0.973\tval acc=>0.978\n",
      "Generation 391/500\tbest cost = 0.02935\ttrain acc=>0.973\tval acc=>0.978\n",
      "Generation 392/500\tbest cost = 0.02931\ttrain acc=>0.973\tval acc=>0.978\n",
      "Generation 393/500\tbest cost = 0.02931\ttrain acc=>0.973\tval acc=>0.978\n",
      "Generation 394/500\tbest cost = 0.02930\ttrain acc=>0.973\tval acc=>0.978\n",
      "Generation 395/500\tbest cost = 0.02928\ttrain acc=>0.972\tval acc=>0.978\n",
      "Generation 396/500\tbest cost = 0.02926\ttrain acc=>0.973\tval acc=>0.978\n",
      "Generation 397/500\tbest cost = 0.02922\ttrain acc=>0.972\tval acc=>0.978\n",
      "Generation 398/500\tbest cost = 0.02920\ttrain acc=>0.972\tval acc=>0.978\n",
      "Generation 399/500\tbest cost = 0.02920\ttrain acc=>0.972\tval acc=>0.978\n",
      "Generation 400/500\tbest cost = 0.02917\ttrain acc=>0.972\tval acc=>0.978\n",
      "Generation 401/500\tbest cost = 0.02917\ttrain acc=>0.972\tval acc=>0.978\n",
      "Generation 402/500\tbest cost = 0.02914\ttrain acc=>0.972\tval acc=>0.978\n",
      "Generation 403/500\tbest cost = 0.02911\ttrain acc=>0.972\tval acc=>0.978\n",
      "Generation 404/500\tbest cost = 0.02907\ttrain acc=>0.972\tval acc=>0.978\n",
      "Generation 405/500\tbest cost = 0.02905\ttrain acc=>0.972\tval acc=>0.978\n",
      "Generation 406/500\tbest cost = 0.02899\ttrain acc=>0.972\tval acc=>0.978\n",
      "Generation 407/500\tbest cost = 0.02894\ttrain acc=>0.972\tval acc=>0.978\n",
      "Generation 408/500\tbest cost = 0.02891\ttrain acc=>0.972\tval acc=>0.978\n",
      "Generation 409/500\tbest cost = 0.02884\ttrain acc=>0.972\tval acc=>0.978\n",
      "Generation 410/500\tbest cost = 0.02879\ttrain acc=>0.972\tval acc=>0.978\n",
      "Generation 411/500\tbest cost = 0.02873\ttrain acc=>0.973\tval acc=>0.978\n",
      "Generation 412/500\tbest cost = 0.02867\ttrain acc=>0.973\tval acc=>0.978\n",
      "Generation 413/500\tbest cost = 0.02862\ttrain acc=>0.973\tval acc=>0.978\n",
      "Generation 414/500\tbest cost = 0.02857\ttrain acc=>0.972\tval acc=>0.978\n",
      "Generation 415/500\tbest cost = 0.02856\ttrain acc=>0.972\tval acc=>0.978\n",
      "Generation 416/500\tbest cost = 0.02852\ttrain acc=>0.972\tval acc=>0.978\n",
      "Generation 417/500\tbest cost = 0.02847\ttrain acc=>0.972\tval acc=>0.978\n",
      "Generation 418/500\tbest cost = 0.02843\ttrain acc=>0.973\tval acc=>0.978\n",
      "Generation 419/500\tbest cost = 0.02838\ttrain acc=>0.972\tval acc=>0.978\n",
      "Generation 420/500\tbest cost = 0.02831\ttrain acc=>0.973\tval acc=>0.978\n",
      "Generation 421/500\tbest cost = 0.02826\ttrain acc=>0.973\tval acc=>0.978\n",
      "Generation 422/500\tbest cost = 0.02817\ttrain acc=>0.973\tval acc=>0.978\n",
      "Generation 423/500\tbest cost = 0.02811\ttrain acc=>0.973\tval acc=>0.978\n",
      "Generation 424/500\tbest cost = 0.02803\ttrain acc=>0.973\tval acc=>0.979\n",
      "Generation 425/500\tbest cost = 0.02798\ttrain acc=>0.974\tval acc=>0.979\n",
      "Generation 426/500\tbest cost = 0.02795\ttrain acc=>0.974\tval acc=>0.979\n",
      "Generation 427/500\tbest cost = 0.02787\ttrain acc=>0.974\tval acc=>0.979\n",
      "Generation 428/500\tbest cost = 0.02783\ttrain acc=>0.974\tval acc=>0.979\n",
      "Generation 429/500\tbest cost = 0.02778\ttrain acc=>0.974\tval acc=>0.979\n",
      "Generation 430/500\tbest cost = 0.02770\ttrain acc=>0.974\tval acc=>0.980\n",
      "Generation 431/500\tbest cost = 0.02764\ttrain acc=>0.974\tval acc=>0.979\n",
      "Generation 432/500\tbest cost = 0.02754\ttrain acc=>0.974\tval acc=>0.980\n",
      "Generation 433/500\tbest cost = 0.02748\ttrain acc=>0.974\tval acc=>0.980\n",
      "Generation 434/500\tbest cost = 0.02744\ttrain acc=>0.974\tval acc=>0.979\n",
      "Generation 435/500\tbest cost = 0.02738\ttrain acc=>0.974\tval acc=>0.979\n",
      "Generation 436/500\tbest cost = 0.02737\ttrain acc=>0.974\tval acc=>0.979\n",
      "Generation 437/500\tbest cost = 0.02737\ttrain acc=>0.974\tval acc=>0.979\n",
      "Generation 438/500\tbest cost = 0.02734\ttrain acc=>0.974\tval acc=>0.979\n",
      "Generation 439/500\tbest cost = 0.02734\ttrain acc=>0.974\tval acc=>0.979\n",
      "Generation 440/500\tbest cost = 0.02731\ttrain acc=>0.974\tval acc=>0.979\n",
      "Generation 441/500\tbest cost = 0.02726\ttrain acc=>0.974\tval acc=>0.979\n",
      "Generation 442/500\tbest cost = 0.02724\ttrain acc=>0.974\tval acc=>0.979\n",
      "Generation 443/500\tbest cost = 0.02720\ttrain acc=>0.974\tval acc=>0.979\n",
      "Generation 444/500\tbest cost = 0.02713\ttrain acc=>0.975\tval acc=>0.979\n",
      "Generation 445/500\tbest cost = 0.02708\ttrain acc=>0.974\tval acc=>0.979\n",
      "Generation 446/500\tbest cost = 0.02702\ttrain acc=>0.975\tval acc=>0.979\n",
      "Generation 447/500\tbest cost = 0.02694\ttrain acc=>0.975\tval acc=>0.979\n",
      "Generation 448/500\tbest cost = 0.02687\ttrain acc=>0.975\tval acc=>0.980\n",
      "Generation 449/500\tbest cost = 0.02680\ttrain acc=>0.974\tval acc=>0.979\n",
      "Generation 450/500\tbest cost = 0.02674\ttrain acc=>0.975\tval acc=>0.979\n",
      "Generation 451/500\tbest cost = 0.02671\ttrain acc=>0.974\tval acc=>0.979\n",
      "Generation 452/500\tbest cost = 0.02668\ttrain acc=>0.975\tval acc=>0.979\n",
      "Generation 453/500\tbest cost = 0.02666\ttrain acc=>0.974\tval acc=>0.979\n",
      "Generation 454/500\tbest cost = 0.02666\ttrain acc=>0.974\tval acc=>0.979\n",
      "Generation 455/500\tbest cost = 0.02666\ttrain acc=>0.974\tval acc=>0.979\n",
      "Generation 456/500\tbest cost = 0.02664\ttrain acc=>0.974\tval acc=>0.979\n",
      "Generation 457/500\tbest cost = 0.02660\ttrain acc=>0.975\tval acc=>0.980\n",
      "Generation 458/500\tbest cost = 0.02659\ttrain acc=>0.975\tval acc=>0.980\n",
      "Generation 459/500\tbest cost = 0.02656\ttrain acc=>0.975\tval acc=>0.980\n",
      "Generation 460/500\tbest cost = 0.02654\ttrain acc=>0.975\tval acc=>0.980\n",
      "Generation 461/500\tbest cost = 0.02653\ttrain acc=>0.975\tval acc=>0.980\n",
      "Generation 462/500\tbest cost = 0.02650\ttrain acc=>0.975\tval acc=>0.980\n",
      "Generation 463/500\tbest cost = 0.02649\ttrain acc=>0.975\tval acc=>0.980\n",
      "Generation 464/500\tbest cost = 0.02648\ttrain acc=>0.975\tval acc=>0.980\n",
      "Generation 465/500\tbest cost = 0.02646\ttrain acc=>0.975\tval acc=>0.980\n",
      "Generation 466/500\tbest cost = 0.02646\ttrain acc=>0.975\tval acc=>0.980\n",
      "Generation 467/500\tbest cost = 0.02642\ttrain acc=>0.975\tval acc=>0.980\n",
      "Generation 468/500\tbest cost = 0.02641\ttrain acc=>0.975\tval acc=>0.980\n",
      "Generation 469/500\tbest cost = 0.02638\ttrain acc=>0.975\tval acc=>0.980\n",
      "Generation 470/500\tbest cost = 0.02636\ttrain acc=>0.975\tval acc=>0.980\n",
      "Generation 471/500\tbest cost = 0.02633\ttrain acc=>0.975\tval acc=>0.980\n",
      "Generation 472/500\tbest cost = 0.02628\ttrain acc=>0.974\tval acc=>0.980\n",
      "Generation 473/500\tbest cost = 0.02625\ttrain acc=>0.975\tval acc=>0.979\n",
      "Generation 474/500\tbest cost = 0.02623\ttrain acc=>0.974\tval acc=>0.979\n",
      "Generation 475/500\tbest cost = 0.02618\ttrain acc=>0.974\tval acc=>0.979\n",
      "Generation 476/500\tbest cost = 0.02617\ttrain acc=>0.974\tval acc=>0.979\n",
      "Generation 477/500\tbest cost = 0.02616\ttrain acc=>0.974\tval acc=>0.979\n",
      "Generation 478/500\tbest cost = 0.02612\ttrain acc=>0.974\tval acc=>0.980\n",
      "Generation 479/500\tbest cost = 0.02609\ttrain acc=>0.974\tval acc=>0.980\n",
      "Generation 480/500\tbest cost = 0.02607\ttrain acc=>0.975\tval acc=>0.980\n",
      "Generation 481/500\tbest cost = 0.02605\ttrain acc=>0.974\tval acc=>0.979\n",
      "Generation 482/500\tbest cost = 0.02603\ttrain acc=>0.975\tval acc=>0.979\n",
      "Generation 483/500\tbest cost = 0.02602\ttrain acc=>0.975\tval acc=>0.980\n",
      "Generation 484/500\tbest cost = 0.02600\ttrain acc=>0.975\tval acc=>0.980\n",
      "Generation 485/500\tbest cost = 0.02597\ttrain acc=>0.975\tval acc=>0.980\n",
      "Generation 486/500\tbest cost = 0.02596\ttrain acc=>0.975\tval acc=>0.980\n",
      "Generation 487/500\tbest cost = 0.02593\ttrain acc=>0.975\tval acc=>0.980\n",
      "Generation 488/500\tbest cost = 0.02591\ttrain acc=>0.975\tval acc=>0.980\n",
      "Generation 489/500\tbest cost = 0.02589\ttrain acc=>0.975\tval acc=>0.980\n",
      "Generation 490/500\tbest cost = 0.02587\ttrain acc=>0.975\tval acc=>0.980\n",
      "Generation 491/500\tbest cost = 0.02583\ttrain acc=>0.975\tval acc=>0.980\n",
      "Generation 492/500\tbest cost = 0.02580\ttrain acc=>0.976\tval acc=>0.980\n",
      "Generation 493/500\tbest cost = 0.02578\ttrain acc=>0.975\tval acc=>0.980\n",
      "Generation 494/500\tbest cost = 0.02574\ttrain acc=>0.976\tval acc=>0.980\n",
      "Generation 495/500\tbest cost = 0.02572\ttrain acc=>0.975\tval acc=>0.980\n",
      "Generation 496/500\tbest cost = 0.02570\ttrain acc=>0.976\tval acc=>0.980\n",
      "Generation 497/500\tbest cost = 0.02566\ttrain acc=>0.975\tval acc=>0.979\n",
      "Generation 498/500\tbest cost = 0.02566\ttrain acc=>0.975\tval acc=>0.979\n",
      "Generation 499/500\tbest cost = 0.02565\ttrain acc=>0.975\tval acc=>0.979\n",
      "Generation 500/500\tbest cost = 0.02563\ttrain acc=>0.975\tval acc=>0.979\n",
      "\n",
      "Training time: 5400.62s\n"
     ]
    }
   ],
   "source": [
    "network.train(X_train, y_train, X_val, y_val, 500,\n",
    "              learning_rate=.1, w=.9, fi1=.3, fi2=.7, particles_in_swarm=50, verbose=True)"
   ]
  },
  {
   "cell_type": "code",
   "execution_count": 28,
   "id": "alien-aquatic",
   "metadata": {
    "lines_to_next_cell": 0,
    "title": "codecell"
   },
   "outputs": [
    {
     "data": {
      "text/plain": [
       "<matplotlib.legend.Legend at 0x7f284372a9a0>"
      ]
     },
     "execution_count": 28,
     "metadata": {},
     "output_type": "execute_result"
    },
    {
     "data": {
      "image/png": "[encoded data removed]",
      "text/plain": [
       "<Figure size 432x288 with 1 Axes>"
      ]
     },
     "metadata": {
      "needs_background": "light"
     },
     "output_type": "display_data"
    }
   ],
   "source": [
    "fig, ax = plt.subplots()\n",
    "\n",
    "ax.plot(network.history_train, label='train')\n",
    "ax.plot(network.history_val, label='val')\n",
    "ax.legend()\n",
    "\n",
    "# fig.show()"
   ]
  },
  {
   "cell_type": "markdown",
   "id": "e1dae77f-5e22-47d0-8be9-55d04d8fc33e",
   "metadata": {},
   "source": [
    "# Results"
   ]
  },
  {
   "cell_type": "markdown",
   "id": "ea23f955-484a-4fbf-a399-6553983504b6",
   "metadata": {},
   "source": [
    "### Predict test x"
   ]
  },
  {
   "cell_type": "code",
   "execution_count": 29,
   "id": "e3e2a85a-8224-4fda-a591-8e84a8b7a049",
   "metadata": {},
   "outputs": [],
   "source": [
    "y_test.reset_index(inplace=True, drop=True)"
   ]
  },
  {
   "cell_type": "code",
   "execution_count": 30,
   "id": "54e50132-aafa-4512-be5c-ae0598303f5f",
   "metadata": {},
   "outputs": [],
   "source": [
    "y_pred = network.predict(X_test)"
   ]
  },
  {
   "cell_type": "markdown",
   "id": "b5660a02-08db-48ee-ad50-5ad9efe117f3",
   "metadata": {},
   "source": [
    "### Classification report"
   ]
  },
  {
   "cell_type": "code",
   "execution_count": 31,
   "id": "ca2cdde4-2ce7-44d6-a625-874de9721db1",
   "metadata": {},
   "outputs": [
    {
     "name": "stdout",
     "output_type": "stream",
     "text": [
      "              precision    recall  f1-score   support\n",
      "\n",
      "           0       0.98      0.98      0.98      2287\n",
      "           1       0.96      0.94      0.95       789\n",
      "           2       0.98      1.00      0.99       996\n",
      "\n",
      "   micro avg       0.98      0.98      0.98      4072\n",
      "   macro avg       0.97      0.97      0.97      4072\n",
      "weighted avg       0.98      0.98      0.98      4072\n",
      " samples avg       0.98      0.98      0.98      4072\n",
      "\n"
     ]
    }
   ],
   "source": [
    "print(classification_report(y_test, y_pred))"
   ]
  },
  {
   "cell_type": "code",
   "execution_count": 32,
   "id": "94a77d2c-69bb-402e-b421-2ca694fe4b50",
   "metadata": {},
   "outputs": [
    {
     "data": {
      "text/plain": [
       "Text(0.5, 1.0, 'Confusion matrix')"
      ]
     },
     "execution_count": 32,
     "metadata": {},
     "output_type": "execute_result"
    },
    {
     "data": {
      "image/png": "[encoded data removed]",
      "text/plain": [
       "<Figure size 432x288 with 2 Axes>"
      ]
     },
     "metadata": {
      "needs_background": "light"
     },
     "output_type": "display_data"
    }
   ],
   "source": [
    "conf_matrix = confusion_matrix(y_test.idxmax(axis=1), y_pred.idxmax(axis=1), labels=y_test.columns.to_list())\n",
    "conf_matrix_norm = conf_matrix / np.sum(conf_matrix, axis=1, keepdims=True)\n",
    "\n",
    "ax = sns.heatmap(pd.DataFrame(conf_matrix_norm), cmap=sns.cm.rocket_r, annot=True, fmt='.5g', xticklabels=y_test.columns.to_list(), yticklabels=y_test.columns.to_list())\n",
    "ax.set(xlabel='Prediction', ylabel='Ground truth')\n",
    "ax.set_title('Confusion matrix')"
   ]
  },
  {
   "cell_type": "code",
   "execution_count": null,
   "id": "084e3888-4aad-4050-8002-cb445b67078a",
   "metadata": {},
   "outputs": [],
   "source": []
  }
 ],
 "metadata": {
  "jupytext": {
   "cell_metadata_filter": "title,-all",
   "main_language": "python",
   "notebook_metadata_filter": "-all"
  },
  "kernelspec": {
   "display_name": "Python 3",
   "language": "python",
   "name": "python3"
  },
  "language_info": {
   "codemirror_mode": {
    "name": "ipython",
    "version": 3
   },
   "file_extension": ".py",
   "mimetype": "text/x-python",
   "name": "python",
   "nbconvert_exporter": "python",
   "pygments_lexer": "ipython3",
   "version": "3.9.4"
  }
 },
 "nbformat": 4,
 "nbformat_minor": 5
}

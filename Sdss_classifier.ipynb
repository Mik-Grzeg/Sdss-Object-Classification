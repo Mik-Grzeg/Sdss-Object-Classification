{
 "cells": [
  {
   "cell_type": "code",
   "execution_count": 1,
   "id": "floral-crowd",
   "metadata": {
    "lines_to_next_cell": 0,
    "title": "codecell"
   },
   "outputs": [],
   "source": [
    "import numpy as np\n",
    "import pandas as pd\n",
    "import matplotlib.pyplot as plt\n",
    "import seaborn as sns\n",
    "import pickle\n",
    "import os\n",
    "\n",
    "from sklearn.metrics import confusion_matrix, classification_report\n",
    "from sklearn.decomposition import PCA\n",
    "from sklearn.preprocessing import StandardScaler, MinMaxScaler, RobustScaler\n",
    "from sklearn.model_selection import train_test_split\n",
    "\n",
    "import neuralnet as nn\n",
    "\n",
    "sns.set_palette('husl')"
   ]
  },
  {
   "cell_type": "code",
   "execution_count": 2,
   "id": "6eca8e81-33cb-432a-a88d-1b2e2a06994c",
   "metadata": {},
   "outputs": [],
   "source": [
    "sdss_data = pd.read_csv('Skyserver_objects_ds_12.csv')"
   ]
  },
  {
   "cell_type": "code",
   "execution_count": 3,
   "id": "a97c27e1-b22a-4682-8be8-7caeaf22c96b",
   "metadata": {},
   "outputs": [
    {
     "data": {
      "text/html": [
       "<div>\n",
       "<style scoped>\n",
       "    .dataframe tbody tr th:only-of-type {\n",
       "        vertical-align: middle;\n",
       "    }\n",
       "\n",
       "    .dataframe tbody tr th {\n",
       "        vertical-align: top;\n",
       "    }\n",
       "\n",
       "    .dataframe thead th {\n",
       "        text-align: right;\n",
       "    }\n",
       "</style>\n",
       "<table border=\"1\" class=\"dataframe\">\n",
       "  <thead>\n",
       "    <tr style=\"text-align: right;\">\n",
       "      <th></th>\n",
       "      <th>class</th>\n",
       "      <th>run</th>\n",
       "      <th>camcol</th>\n",
       "      <th>rerun</th>\n",
       "      <th>field</th>\n",
       "      <th>objid</th>\n",
       "      <th>u</th>\n",
       "      <th>g</th>\n",
       "      <th>r</th>\n",
       "      <th>i</th>\n",
       "      <th>z</th>\n",
       "      <th>ra</th>\n",
       "      <th>dec</th>\n",
       "      <th>specobjid</th>\n",
       "      <th>plate</th>\n",
       "      <th>mjd</th>\n",
       "      <th>fiberid</th>\n",
       "      <th>redshift</th>\n",
       "    </tr>\n",
       "  </thead>\n",
       "  <tbody>\n",
       "    <tr>\n",
       "      <th>20353</th>\n",
       "      <td>GALAXY</td>\n",
       "      <td>752</td>\n",
       "      <td>6</td>\n",
       "      <td>301</td>\n",
       "      <td>92</td>\n",
       "      <td>1237648705639416184</td>\n",
       "      <td>26.04972</td>\n",
       "      <td>22.39536</td>\n",
       "      <td>20.38941</td>\n",
       "      <td>19.35793</td>\n",
       "      <td>18.84246</td>\n",
       "      <td>157.326047</td>\n",
       "      <td>0.873352</td>\n",
       "      <td>4314677505052831744</td>\n",
       "      <td>3832</td>\n",
       "      <td>55289</td>\n",
       "      <td>833</td>\n",
       "      <td>0.539871</td>\n",
       "    </tr>\n",
       "    <tr>\n",
       "      <th>20354</th>\n",
       "      <td>STAR</td>\n",
       "      <td>1241</td>\n",
       "      <td>2</td>\n",
       "      <td>301</td>\n",
       "      <td>150</td>\n",
       "      <td>1237650803734741295</td>\n",
       "      <td>21.49449</td>\n",
       "      <td>20.40386</td>\n",
       "      <td>20.21281</td>\n",
       "      <td>20.21889</td>\n",
       "      <td>20.46793</td>\n",
       "      <td>160.902724</td>\n",
       "      <td>-2.918764</td>\n",
       "      <td>4245784034879926272</td>\n",
       "      <td>3771</td>\n",
       "      <td>55544</td>\n",
       "      <td>56</td>\n",
       "      <td>0.000869</td>\n",
       "    </tr>\n",
       "    <tr>\n",
       "      <th>20355</th>\n",
       "      <td>GALAXY</td>\n",
       "      <td>1458</td>\n",
       "      <td>5</td>\n",
       "      <td>301</td>\n",
       "      <td>464</td>\n",
       "      <td>1237651737373836023</td>\n",
       "      <td>24.77447</td>\n",
       "      <td>22.93241</td>\n",
       "      <td>21.49690</td>\n",
       "      <td>20.12395</td>\n",
       "      <td>19.64682</td>\n",
       "      <td>194.303287</td>\n",
       "      <td>3.195364</td>\n",
       "      <td>5355920795099656192</td>\n",
       "      <td>4757</td>\n",
       "      <td>55653</td>\n",
       "      <td>54</td>\n",
       "      <td>0.656553</td>\n",
       "    </tr>\n",
       "    <tr>\n",
       "      <th>20356</th>\n",
       "      <td>QSO</td>\n",
       "      <td>756</td>\n",
       "      <td>4</td>\n",
       "      <td>301</td>\n",
       "      <td>344</td>\n",
       "      <td>1237648721762058462</td>\n",
       "      <td>21.22846</td>\n",
       "      <td>20.45185</td>\n",
       "      <td>20.54100</td>\n",
       "      <td>20.54968</td>\n",
       "      <td>20.19005</td>\n",
       "      <td>167.398976</td>\n",
       "      <td>0.323752</td>\n",
       "      <td>4320297938364067840</td>\n",
       "      <td>3837</td>\n",
       "      <td>55572</td>\n",
       "      <td>800</td>\n",
       "      <td>2.323997</td>\n",
       "    </tr>\n",
       "    <tr>\n",
       "      <th>20357</th>\n",
       "      <td>GALAXY</td>\n",
       "      <td>1402</td>\n",
       "      <td>2</td>\n",
       "      <td>301</td>\n",
       "      <td>82</td>\n",
       "      <td>1237651495220020104</td>\n",
       "      <td>23.66409</td>\n",
       "      <td>24.11156</td>\n",
       "      <td>21.64051</td>\n",
       "      <td>20.58134</td>\n",
       "      <td>19.80171</td>\n",
       "      <td>118.754578</td>\n",
       "      <td>43.367616</td>\n",
       "      <td>7178798384345182208</td>\n",
       "      <td>6376</td>\n",
       "      <td>56269</td>\n",
       "      <td>220</td>\n",
       "      <td>0.660069</td>\n",
       "    </tr>\n",
       "  </tbody>\n",
       "</table>\n",
       "</div>"
      ],
      "text/plain": [
       "        class   run  camcol  rerun  field                objid         u  \\\n",
       "20353  GALAXY   752       6    301     92  1237648705639416184  26.04972   \n",
       "20354    STAR  1241       2    301    150  1237650803734741295  21.49449   \n",
       "20355  GALAXY  1458       5    301    464  1237651737373836023  24.77447   \n",
       "20356     QSO   756       4    301    344  1237648721762058462  21.22846   \n",
       "20357  GALAXY  1402       2    301     82  1237651495220020104  23.66409   \n",
       "\n",
       "              g         r         i         z          ra        dec  \\\n",
       "20353  22.39536  20.38941  19.35793  18.84246  157.326047   0.873352   \n",
       "20354  20.40386  20.21281  20.21889  20.46793  160.902724  -2.918764   \n",
       "20355  22.93241  21.49690  20.12395  19.64682  194.303287   3.195364   \n",
       "20356  20.45185  20.54100  20.54968  20.19005  167.398976   0.323752   \n",
       "20357  24.11156  21.64051  20.58134  19.80171  118.754578  43.367616   \n",
       "\n",
       "                 specobjid  plate    mjd  fiberid  redshift  \n",
       "20353  4314677505052831744   3832  55289      833  0.539871  \n",
       "20354  4245784034879926272   3771  55544       56  0.000869  \n",
       "20355  5355920795099656192   4757  55653       54  0.656553  \n",
       "20356  4320297938364067840   3837  55572      800  2.323997  \n",
       "20357  7178798384345182208   6376  56269      220  0.660069  "
      ]
     },
     "execution_count": 3,
     "metadata": {},
     "output_type": "execute_result"
    }
   ],
   "source": [
    "sdss_data.tail()"
   ]
  },
  {
   "cell_type": "markdown",
   "id": "e21262b1-a366-4dab-a343-1b11e06928bb",
   "metadata": {
    "lines_to_next_cell": 0,
    "title": "markdown"
   },
   "source": [
    "#### Featuresreset_index"
   ]
  },
  {
   "cell_type": "code",
   "execution_count": 4,
   "id": "realistic-davis",
   "metadata": {
    "lines_to_next_cell": 0
   },
   "outputs": [
    {
     "name": "stdout",
     "output_type": "stream",
     "text": [
      "<class 'pandas.core.frame.DataFrame'>\n",
      "RangeIndex: 20358 entries, 0 to 20357\n",
      "Data columns (total 18 columns):\n",
      " #   Column     Non-Null Count  Dtype  \n",
      "---  ------     --------------  -----  \n",
      " 0   class      20358 non-null  object \n",
      " 1   run        20358 non-null  int64  \n",
      " 2   camcol     20358 non-null  int64  \n",
      " 3   rerun      20358 non-null  int64  \n",
      " 4   field      20358 non-null  int64  \n",
      " 5   objid      20358 non-null  int64  \n",
      " 6   u          20358 non-null  float64\n",
      " 7   g          20358 non-null  float64\n",
      " 8   r          20358 non-null  float64\n",
      " 9   i          20358 non-null  float64\n",
      " 10  z          20358 non-null  float64\n",
      " 11  ra         20358 non-null  float64\n",
      " 12  dec        20358 non-null  float64\n",
      " 13  specobjid  20358 non-null  int64  \n",
      " 14  plate      20358 non-null  int64  \n",
      " 15  mjd        20358 non-null  int64  \n",
      " 16  fiberid    20358 non-null  int64  \n",
      " 17  redshift   20358 non-null  float64\n",
      "dtypes: float64(8), int64(9), object(1)\n",
      "memory usage: 2.8+ MB\n"
     ]
    }
   ],
   "source": [
    "sdss_data.info()"
   ]
  },
  {
   "cell_type": "markdown",
   "id": "bd8eee90-5d5e-410b-ab3e-69fc17c9c0f4",
   "metadata": {
    "lines_to_next_cell": 0,
    "title": "markdown"
   },
   "source": [
    "Details about more important features.\n",
    "+ ra, dec — right ascension and declination respectively\n",
    "+ u, g, r, i, z — filter bands (a.k.a. photometric system or astronomical magnitudes)\n",
    "+ run, rerun, camcol, field — descriptors of fields (i.e. 2048 x 1489 pixels) within image\n",
    "+ redshift — increase in wavelength due to motion of astronomical object\n",
    "+ plate — plate number\n",
    "+ mjd — modified Julian date of observation\n",
    "+ fiberid — optic fiber ID\n",
    "+ class - category of an object, that will be our dependent variable"
   ]
  },
  {
   "cell_type": "code",
   "execution_count": 5,
   "id": "4bb1e274-de91-4c11-9d44-202d84634a7c",
   "metadata": {},
   "outputs": [],
   "source": [
    "grouped_desc = sdss_data.groupby(['class']).describe()"
   ]
  },
  {
   "cell_type": "code",
   "execution_count": 6,
   "id": "productive-settlement",
   "metadata": {
    "lines_to_next_cell": 0,
    "title": "codecell"
   },
   "outputs": [
    {
     "data": {
      "text/html": [
       "<div>\n",
       "<style scoped>\n",
       "    .dataframe tbody tr th:only-of-type {\n",
       "        vertical-align: middle;\n",
       "    }\n",
       "\n",
       "    .dataframe tbody tr th {\n",
       "        vertical-align: top;\n",
       "    }\n",
       "\n",
       "    .dataframe thead th {\n",
       "        text-align: right;\n",
       "    }\n",
       "</style>\n",
       "<table border=\"1\" class=\"dataframe\">\n",
       "  <thead>\n",
       "    <tr style=\"text-align: right;\">\n",
       "      <th></th>\n",
       "      <th>class</th>\n",
       "      <th>run</th>\n",
       "      <th>camcol</th>\n",
       "      <th>rerun</th>\n",
       "      <th>field</th>\n",
       "      <th>objid</th>\n",
       "      <th>u</th>\n",
       "      <th>g</th>\n",
       "      <th>r</th>\n",
       "      <th>i</th>\n",
       "      <th>z</th>\n",
       "      <th>ra</th>\n",
       "      <th>dec</th>\n",
       "      <th>specobjid</th>\n",
       "      <th>plate</th>\n",
       "      <th>mjd</th>\n",
       "      <th>fiberid</th>\n",
       "      <th>redshift</th>\n",
       "    </tr>\n",
       "  </thead>\n",
       "  <tbody>\n",
       "    <tr>\n",
       "      <th>0</th>\n",
       "      <td>3</td>\n",
       "      <td>31</td>\n",
       "      <td>6</td>\n",
       "      <td>1</td>\n",
       "      <td>682</td>\n",
       "      <td>18099</td>\n",
       "      <td>17818</td>\n",
       "      <td>17642</td>\n",
       "      <td>17580</td>\n",
       "      <td>17664</td>\n",
       "      <td>17684</td>\n",
       "      <td>18099</td>\n",
       "      <td>18099</td>\n",
       "      <td>20358</td>\n",
       "      <td>432</td>\n",
       "      <td>304</td>\n",
       "      <td>1000</td>\n",
       "      <td>20277</td>\n",
       "    </tr>\n",
       "  </tbody>\n",
       "</table>\n",
       "</div>"
      ],
      "text/plain": [
       "   class  run  camcol  rerun  field  objid      u      g      r      i      z  \\\n",
       "0      3   31       6      1    682  18099  17818  17642  17580  17664  17684   \n",
       "\n",
       "      ra    dec  specobjid  plate  mjd  fiberid  redshift  \n",
       "0  18099  18099      20358    432  304     1000     20277  "
      ]
     },
     "execution_count": 6,
     "metadata": {},
     "output_type": "execute_result"
    }
   ],
   "source": [
    "sdss_data.nunique().to_frame().T"
   ]
  },
  {
   "cell_type": "markdown",
   "id": "eab961aa-bdfb-4b7c-a9cf-5612616e182f",
   "metadata": {
    "lines_to_next_cell": 0,
    "title": "markdown"
   },
   "source": [
    "#### Univariate analysis"
   ]
  },
  {
   "cell_type": "code",
   "execution_count": 7,
   "id": "unusual-influence",
   "metadata": {
    "lines_to_next_cell": 0,
    "title": "codecell"
   },
   "outputs": [
    {
     "data": {
      "image/png": "[encoded data removed]",
      "text/plain": [
       "<Figure size 432x288 with 1 Axes>"
      ]
     },
     "metadata": {
      "needs_background": "light"
     },
     "output_type": "display_data"
    }
   ],
   "source": [
    "# counts of observations in each categorical bin\n",
    "ax = sns.countplot(x='class', data=sdss_data)"
   ]
  },
  {
   "cell_type": "code",
   "execution_count": 8,
   "id": "latest-circuit",
   "metadata": {
    "lines_to_next_cell": 0,
    "title": "codecell"
   },
   "outputs": [
    {
     "data": {
      "text/html": [
       "<div>\n",
       "<style scoped>\n",
       "    .dataframe tbody tr th:only-of-type {\n",
       "        vertical-align: middle;\n",
       "    }\n",
       "\n",
       "    .dataframe tbody tr th {\n",
       "        vertical-align: top;\n",
       "    }\n",
       "\n",
       "    .dataframe thead th {\n",
       "        text-align: right;\n",
       "    }\n",
       "</style>\n",
       "<table border=\"1\" class=\"dataframe\">\n",
       "  <thead>\n",
       "    <tr style=\"text-align: right;\">\n",
       "      <th></th>\n",
       "      <th>Occurances</th>\n",
       "    </tr>\n",
       "  </thead>\n",
       "  <tbody>\n",
       "    <tr>\n",
       "      <th>GALAXY</th>\n",
       "      <td>11243</td>\n",
       "    </tr>\n",
       "    <tr>\n",
       "      <th>STAR</th>\n",
       "      <td>4992</td>\n",
       "    </tr>\n",
       "    <tr>\n",
       "      <th>QSO</th>\n",
       "      <td>4123</td>\n",
       "    </tr>\n",
       "  </tbody>\n",
       "</table>\n",
       "</div>"
      ],
      "text/plain": [
       "        Occurances\n",
       "GALAXY       11243\n",
       "STAR          4992\n",
       "QSO           4123"
      ]
     },
     "execution_count": 8,
     "metadata": {},
     "output_type": "execute_result"
    }
   ],
   "source": [
    "occurances = sdss_data['class'].value_counts().to_frame().rename(\n",
    "    index=str, columns={'class': 'Occurances'})\n",
    "occurances"
   ]
  },
  {
   "cell_type": "markdown",
   "id": "27097083-49f9-4dda-870f-d8bd811d6564",
   "metadata": {},
   "source": [
    "More than half of observations are galaxies."
   ]
  },
  {
   "cell_type": "code",
   "execution_count": 9,
   "id": "caring-opposition",
   "metadata": {
    "lines_to_next_cell": 0,
    "title": "codecell"
   },
   "outputs": [
    {
     "data": {
      "text/plain": [
       "array([ 752, 1462, 1907, 1402, 1350, 1331,  756, 1895, 1345, 1458, 1904,\n",
       "       1140, 1412, 1239, 1231, 1473, 1045, 2074, 1404, 1241, 1729,  109,\n",
       "         94, 1302,  308, 1478, 1477,  745, 1329, 1119,  259])"
      ]
     },
     "execution_count": 9,
     "metadata": {},
     "output_type": "execute_result"
    }
   ],
   "source": [
    "sdss_data.run.unique()"
   ]
  },
  {
   "cell_type": "code",
   "execution_count": 10,
   "id": "earlier-variety",
   "metadata": {
    "lines_to_next_cell": 0,
    "title": "codecell"
   },
   "outputs": [
    {
     "data": {
      "image/png": "[encoded data removed]",
      "text/plain": [
       "<Figure size 864x432 with 2 Axes>"
      ]
     },
     "metadata": {
      "needs_background": "light"
     },
     "output_type": "display_data"
    }
   ],
   "source": [
    "xs = ['camcol', 'run']\n",
    "fig, axes = plt.subplots(ncols=2, nrows=1, figsize=(12, 6))\n",
    "\n",
    "for i in range(len(xs)):\n",
    "    axes[i] = sns.histplot(sdss_data, x=xs[i], hue='class',\n",
    "                           multiple='stack', ax=axes[i])"
   ]
  },
  {
   "cell_type": "code",
   "execution_count": 11,
   "id": "subjective-forty",
   "metadata": {
    "lines_to_next_cell": 0,
    "title": "codecell"
   },
   "outputs": [
    {
     "data": {
      "text/html": [
       "<div>\n",
       "<style scoped>\n",
       "    .dataframe tbody tr th:only-of-type {\n",
       "        vertical-align: middle;\n",
       "    }\n",
       "\n",
       "    .dataframe tbody tr th {\n",
       "        vertical-align: top;\n",
       "    }\n",
       "\n",
       "    .dataframe thead th {\n",
       "        text-align: right;\n",
       "    }\n",
       "</style>\n",
       "<table border=\"1\" class=\"dataframe\">\n",
       "  <thead>\n",
       "    <tr style=\"text-align: right;\">\n",
       "      <th></th>\n",
       "      <th>redshift</th>\n",
       "    </tr>\n",
       "    <tr>\n",
       "      <th>class</th>\n",
       "      <th></th>\n",
       "    </tr>\n",
       "  </thead>\n",
       "  <tbody>\n",
       "    <tr>\n",
       "      <th>GALAXY</th>\n",
       "      <td>0.503228</td>\n",
       "    </tr>\n",
       "    <tr>\n",
       "      <th>QSO</th>\n",
       "      <td>2.110945</td>\n",
       "    </tr>\n",
       "    <tr>\n",
       "      <th>STAR</th>\n",
       "      <td>0.000170</td>\n",
       "    </tr>\n",
       "  </tbody>\n",
       "</table>\n",
       "</div>"
      ],
      "text/plain": [
       "        redshift\n",
       "class           \n",
       "GALAXY  0.503228\n",
       "QSO     2.110945\n",
       "STAR    0.000170"
      ]
     },
     "execution_count": 11,
     "metadata": {},
     "output_type": "execute_result"
    },
    {
     "data": {
      "image/png": "[encoded data removed]",
      "text/plain": [
       "<Figure size 1080x432 with 3 Axes>"
      ]
     },
     "metadata": {
      "needs_background": "light"
     },
     "output_type": "display_data"
    }
   ],
   "source": [
    "fig, axes = plt.subplots(nrows=1, ncols=3, figsize=(15, 6))\n",
    "\n",
    "for i in range(len(occurances)):\n",
    "    ax = sns.histplot(sdss_data[sdss_data['class'] ==\n",
    "                                occurances.index[i]].redshift, bins=40, ax=axes[i])\n",
    "    ax.set_title(occurances.index[i])\n",
    "\n",
    "# mean of redshift for every class\n",
    "sdss_data.groupby(by='class')['redshift'].mean().to_frame()"
   ]
  },
  {
   "cell_type": "markdown",
   "id": "55468f9b-9ae3-48ba-b19f-7344b8bbab4a",
   "metadata": {
    "lines_to_next_cell": 0,
    "title": "markdown"
   },
   "source": [
    "As it seems there are significant differences amongst classification classes, especially QSO (quasars) stands out.\n",
    "+ **GALAXY** distribution of redshift values seems to be shifted to the right. Most samples lie around 0.055\n",
    "+ **STAR** redshift histogram is centered around 0, and most of the observations lie between -0.002 and 0.002"
   ]
  },
  {
   "cell_type": "markdown",
   "id": "392995f7-b41d-45e3-9ac0-8717c13412a5",
   "metadata": {
    "lines_to_next_cell": 0,
    "title": "markdown"
   },
   "source": [
    "##### Dec\n",
    "Let's visualize dec feature as violin plots."
   ]
  },
  {
   "cell_type": "code",
   "execution_count": 12,
   "id": "lovely-renaissance",
   "metadata": {
    "lines_to_next_cell": 0,
    "title": "codecell"
   },
   "outputs": [
    {
     "data": {
      "text/plain": [
       "<AxesSubplot:xlabel='dec', ylabel='class'>"
      ]
     },
     "execution_count": 12,
     "metadata": {},
     "output_type": "execute_result"
    },
    {
     "data": {
      "image/png": "[encoded data removed]",
      "text/plain": [
       "<Figure size 432x288 with 1 Axes>"
      ]
     },
     "metadata": {
      "needs_background": "light"
     },
     "output_type": "display_data"
    }
   ],
   "source": [
    "sns.violinplot(y=sdss_data['class'], x=sdss_data['dec'])"
   ]
  },
  {
   "cell_type": "markdown",
   "id": "185dd0da-8634-46ed-8a66-0e970e7d9314",
   "metadata": {},
   "source": [
    "Most of data points of each class lie around 0 and between 40 - 70, because violinplots are the widest there."
   ]
  },
  {
   "cell_type": "code",
   "execution_count": 13,
   "id": "901d5ff0-794c-46de-860a-26f0b221d157",
   "metadata": {},
   "outputs": [
    {
     "data": {
      "text/plain": [
       "<AxesSubplot:xlabel='class', ylabel='mjd'>"
      ]
     },
     "execution_count": 13,
     "metadata": {},
     "output_type": "execute_result"
    },
    {
     "data": {
      "image/png": "[encoded data removed]",
      "text/plain": [
       "<Figure size 432x288 with 1 Axes>"
      ]
     },
     "metadata": {
      "needs_background": "light"
     },
     "output_type": "display_data"
    }
   ],
   "source": [
    "sns.boxplot(x='class', y='mjd', data=sdss_data)"
   ]
  },
  {
   "cell_type": "markdown",
   "id": "1ae3df50-231a-479a-a47f-6e37a4668f47",
   "metadata": {
    "lines_to_next_cell": 0,
    "title": "markdown"
   },
   "source": [
    "##### Multivariative analysis"
   ]
  },
  {
   "cell_type": "code",
   "execution_count": 14,
   "id": "potential-football",
   "metadata": {
    "lines_to_next_cell": 0,
    "title": "codecell"
   },
   "outputs": [
    {
     "data": {
      "image/png": "[encoded data removed]",
      "text/plain": [
       "<Figure size 1152x288 with 6 Axes>"
      ]
     },
     "metadata": {
      "needs_background": "light"
     },
     "output_type": "display_data"
    }
   ],
   "source": [
    "# names of filter bands columns\n",
    "filter_bands = ['u', 'g', 'r', 'i', 'z']\n",
    "\n",
    "fig, axes = plt.subplots(nrows=1, ncols=3, figsize=(16, 4))\n",
    "cmap = \"YlGnBu\"\n",
    "\n",
    "# plotting\n",
    "for i in range(len(occurances)):\n",
    "    corr = sdss_data[sdss_data['class'] ==\n",
    "                     occurances.index[i]][filter_bands].corr()\n",
    "    ax = sns.heatmap(corr, cmap=cmap, ax=axes[i])\n",
    "    ax.set_title(occurances.index[i])"
   ]
  },
  {
   "cell_type": "markdown",
   "id": "f8482f3d-fb1e-4b58-b937-ba1c0d95af9b",
   "metadata": {
    "lines_to_next_cell": 0,
    "title": "markdown"
   },
   "source": [
    "At the beggining it is worth pointing out that correlation maps look very similar for Galaxies and Stars. Hence, we can assume that different bands behave similarily for those classes.\n",
    "The correlation matrices above show that some of the features are strongly correlated. I assume it is not something odd, because if there is an object captured by one of the bands, the other should capture something aswell.\n",
    "\n",
    "Dimensionality reduction will probably increase accuracy of a classifier."
   ]
  },
  {
   "cell_type": "code",
   "execution_count": 15,
   "id": "2377cc29-1c12-4870-808c-900da897cd89",
   "metadata": {},
   "outputs": [
    {
     "data": {
      "text/html": [
       "<div>\n",
       "<style scoped>\n",
       "    .dataframe tbody tr th:only-of-type {\n",
       "        vertical-align: middle;\n",
       "    }\n",
       "\n",
       "    .dataframe tbody tr th {\n",
       "        vertical-align: top;\n",
       "    }\n",
       "\n",
       "    .dataframe thead th {\n",
       "        text-align: right;\n",
       "    }\n",
       "</style>\n",
       "<table border=\"1\" class=\"dataframe\">\n",
       "  <thead>\n",
       "    <tr style=\"text-align: right;\">\n",
       "      <th></th>\n",
       "      <th>u</th>\n",
       "      <th>g</th>\n",
       "      <th>r</th>\n",
       "      <th>i</th>\n",
       "      <th>z</th>\n",
       "    </tr>\n",
       "  </thead>\n",
       "  <tbody>\n",
       "    <tr>\n",
       "      <th>u</th>\n",
       "      <td>1.000000</td>\n",
       "      <td>0.999852</td>\n",
       "      <td>0.015067</td>\n",
       "      <td>0.006615</td>\n",
       "      <td>0.004668</td>\n",
       "    </tr>\n",
       "    <tr>\n",
       "      <th>g</th>\n",
       "      <td>0.999852</td>\n",
       "      <td>1.000000</td>\n",
       "      <td>0.017415</td>\n",
       "      <td>0.010200</td>\n",
       "      <td>0.008256</td>\n",
       "    </tr>\n",
       "    <tr>\n",
       "      <th>r</th>\n",
       "      <td>0.015067</td>\n",
       "      <td>0.017415</td>\n",
       "      <td>1.000000</td>\n",
       "      <td>0.921864</td>\n",
       "      <td>0.846915</td>\n",
       "    </tr>\n",
       "    <tr>\n",
       "      <th>i</th>\n",
       "      <td>0.006615</td>\n",
       "      <td>0.010200</td>\n",
       "      <td>0.921864</td>\n",
       "      <td>1.000000</td>\n",
       "      <td>0.958625</td>\n",
       "    </tr>\n",
       "    <tr>\n",
       "      <th>z</th>\n",
       "      <td>0.004668</td>\n",
       "      <td>0.008256</td>\n",
       "      <td>0.846915</td>\n",
       "      <td>0.958625</td>\n",
       "      <td>1.000000</td>\n",
       "    </tr>\n",
       "  </tbody>\n",
       "</table>\n",
       "</div>"
      ],
      "text/plain": [
       "          u         g         r         i         z\n",
       "u  1.000000  0.999852  0.015067  0.006615  0.004668\n",
       "g  0.999852  1.000000  0.017415  0.010200  0.008256\n",
       "r  0.015067  0.017415  1.000000  0.921864  0.846915\n",
       "i  0.006615  0.010200  0.921864  1.000000  0.958625\n",
       "z  0.004668  0.008256  0.846915  0.958625  1.000000"
      ]
     },
     "execution_count": 15,
     "metadata": {},
     "output_type": "execute_result"
    }
   ],
   "source": [
    "sdss_data\n",
    "sdss_data[filter_bands].corr()"
   ]
  },
  {
   "cell_type": "code",
   "execution_count": 16,
   "id": "sitting-european",
   "metadata": {
    "lines_to_next_cell": 0,
    "title": "codecell"
   },
   "outputs": [
    {
     "data": {
      "text/plain": [
       "<seaborn.axisgrid.FacetGrid at 0x7f06795c9ca0>"
      ]
     },
     "execution_count": 16,
     "metadata": {},
     "output_type": "execute_result"
    },
    {
     "data": {
      "image/png": "[encoded data removed]",
      "text/plain": [
       "<Figure size 2073.6x576 with 3 Axes>"
      ]
     },
     "metadata": {
      "needs_background": "light"
     },
     "output_type": "display_data"
    }
   ],
   "source": [
    "sns.lmplot(x='ra', y='dec', data=sdss_data, col='class',\n",
    "           aspect=1.2, height=8, hue='class', fit_reg=False)"
   ]
  },
  {
   "cell_type": "markdown",
   "id": "e3c31a8b-0af5-4587-9c19-662119cbc4dd",
   "metadata": {
    "lines_to_next_cell": 0,
    "title": "markdown"
   },
   "source": [
    "Here are plotted **dec** against **ra** values for each class object.\n",
    "Amongst categories of objects most of the groups of data points seem to be similar. There are some clusters that belong to only one class. "
   ]
  },
  {
   "cell_type": "code",
   "execution_count": 17,
   "id": "convenient-slope",
   "metadata": {
    "lines_to_next_cell": 0,
    "title": "codecell"
   },
   "outputs": [
    {
     "data": {
      "text/html": [
       "<div>\n",
       "<style scoped>\n",
       "    .dataframe tbody tr th:only-of-type {\n",
       "        vertical-align: middle;\n",
       "    }\n",
       "\n",
       "    .dataframe tbody tr th {\n",
       "        vertical-align: top;\n",
       "    }\n",
       "\n",
       "    .dataframe thead th {\n",
       "        text-align: right;\n",
       "    }\n",
       "</style>\n",
       "<table border=\"1\" class=\"dataframe\">\n",
       "  <thead>\n",
       "    <tr style=\"text-align: right;\">\n",
       "      <th></th>\n",
       "      <th>plate</th>\n",
       "      <th>mjd</th>\n",
       "    </tr>\n",
       "  </thead>\n",
       "  <tbody>\n",
       "    <tr>\n",
       "      <th>plate</th>\n",
       "      <td>1.000000</td>\n",
       "      <td>0.939648</td>\n",
       "    </tr>\n",
       "    <tr>\n",
       "      <th>mjd</th>\n",
       "      <td>0.939648</td>\n",
       "      <td>1.000000</td>\n",
       "    </tr>\n",
       "  </tbody>\n",
       "</table>\n",
       "</div>"
      ],
      "text/plain": [
       "          plate       mjd\n",
       "plate  1.000000  0.939648\n",
       "mjd    0.939648  1.000000"
      ]
     },
     "execution_count": 17,
     "metadata": {},
     "output_type": "execute_result"
    },
    {
     "data": {
      "image/png": "[encoded data removed]",
      "text/plain": [
       "<Figure size 1080x360 with 3 Axes>"
      ]
     },
     "metadata": {
      "needs_background": "light"
     },
     "output_type": "display_data"
    }
   ],
   "source": [
    "sns.lmplot(x='plate', y='mjd', data=sdss_data, col='class', hue='class')\n",
    "sdss_data[['plate', 'mjd']].corr()"
   ]
  },
  {
   "cell_type": "markdown",
   "id": "6fdf2a94-128d-411f-9560-4af171000c5c",
   "metadata": {
    "lines_to_next_cell": 0,
    "title": "markdown"
   },
   "source": [
    "'**mijd**' and '**plate**' seem to be lineary coorelated, thus plate column will be removed."
   ]
  },
  {
   "cell_type": "markdown",
   "id": "b862575b-eef7-4a7d-9598-f2c63139260c",
   "metadata": {
    "lines_to_next_cell": 0,
    "title": "markdown"
   },
   "source": [
    "#### Feature engineering"
   ]
  },
  {
   "cell_type": "markdown",
   "id": "c37bbbca-136d-4c28-a1b5-7606b23f63ea",
   "metadata": {
    "lines_to_next_cell": 0,
    "title": "markdown"
   },
   "source": [
    "'**rerun**' column has only 1 value even though the provided data set has around 20000 records. Therefore it can be dropped, since it won't affect classification.\n",
    "'**objid**' and '**specobjid**' are ids for accessing the rows in the original database.\n",
    "\n",
    "Hence, they might be removed from data set, because they won't be related to the outcome of prediction.\n",
    "Summarizing, these variables won't affect predictions of model, thus they can be removed.\n",
    "\n",
    "More features to remove: **camcol**, **field**, **fiberid**, **run**, **plate**"
   ]
  },
  {
   "cell_type": "code",
   "execution_count": 18,
   "id": "539c35ca-389d-475a-949a-c72d06746793",
   "metadata": {},
   "outputs": [
    {
     "data": {
      "text/html": [
       "<div>\n",
       "<style scoped>\n",
       "    .dataframe tbody tr th:only-of-type {\n",
       "        vertical-align: middle;\n",
       "    }\n",
       "\n",
       "    .dataframe tbody tr th {\n",
       "        vertical-align: top;\n",
       "    }\n",
       "\n",
       "    .dataframe thead th {\n",
       "        text-align: right;\n",
       "    }\n",
       "</style>\n",
       "<table border=\"1\" class=\"dataframe\">\n",
       "  <thead>\n",
       "    <tr style=\"text-align: right;\">\n",
       "      <th></th>\n",
       "      <th>run</th>\n",
       "      <th>camcol</th>\n",
       "      <th>rerun</th>\n",
       "      <th>field</th>\n",
       "      <th>objid</th>\n",
       "      <th>u</th>\n",
       "      <th>g</th>\n",
       "      <th>r</th>\n",
       "      <th>i</th>\n",
       "      <th>z</th>\n",
       "      <th>ra</th>\n",
       "      <th>dec</th>\n",
       "      <th>specobjid</th>\n",
       "      <th>plate</th>\n",
       "      <th>mjd</th>\n",
       "      <th>fiberid</th>\n",
       "      <th>redshift</th>\n",
       "    </tr>\n",
       "    <tr>\n",
       "      <th>class</th>\n",
       "      <th></th>\n",
       "      <th></th>\n",
       "      <th></th>\n",
       "      <th></th>\n",
       "      <th></th>\n",
       "      <th></th>\n",
       "      <th></th>\n",
       "      <th></th>\n",
       "      <th></th>\n",
       "      <th></th>\n",
       "      <th></th>\n",
       "      <th></th>\n",
       "      <th></th>\n",
       "      <th></th>\n",
       "      <th></th>\n",
       "      <th></th>\n",
       "      <th></th>\n",
       "    </tr>\n",
       "  </thead>\n",
       "  <tbody>\n",
       "    <tr>\n",
       "      <th>GALAXY</th>\n",
       "      <td>1296.045451</td>\n",
       "      <td>3.650627</td>\n",
       "      <td>301.0</td>\n",
       "      <td>240.773726</td>\n",
       "      <td>1.237651e+18</td>\n",
       "      <td>23.829993</td>\n",
       "      <td>21.906185</td>\n",
       "      <td>20.295857</td>\n",
       "      <td>19.382390</td>\n",
       "      <td>18.949002</td>\n",
       "      <td>159.208621</td>\n",
       "      <td>15.638214</td>\n",
       "      <td>5.299049e+18</td>\n",
       "      <td>4706.373388</td>\n",
       "      <td>55747.852086</td>\n",
       "      <td>523.408521</td>\n",
       "      <td>0.503228</td>\n",
       "    </tr>\n",
       "    <tr>\n",
       "      <th>QSO</th>\n",
       "      <td>1117.642008</td>\n",
       "      <td>3.993451</td>\n",
       "      <td>301.0</td>\n",
       "      <td>289.390735</td>\n",
       "      <td>1.237650e+18</td>\n",
       "      <td>19.717012</td>\n",
       "      <td>18.616896</td>\n",
       "      <td>20.721379</td>\n",
       "      <td>20.551191</td>\n",
       "      <td>20.324398</td>\n",
       "      <td>168.267999</td>\n",
       "      <td>22.607516</td>\n",
       "      <td>5.440519e+18</td>\n",
       "      <td>4832.024497</td>\n",
       "      <td>55821.520737</td>\n",
       "      <td>520.322338</td>\n",
       "      <td>2.110945</td>\n",
       "    </tr>\n",
       "    <tr>\n",
       "      <th>STAR</th>\n",
       "      <td>1018.062500</td>\n",
       "      <td>3.778646</td>\n",
       "      <td>301.0</td>\n",
       "      <td>232.585136</td>\n",
       "      <td>1.237650e+18</td>\n",
       "      <td>21.938177</td>\n",
       "      <td>20.432247</td>\n",
       "      <td>19.942759</td>\n",
       "      <td>19.693122</td>\n",
       "      <td>19.539174</td>\n",
       "      <td>158.363837</td>\n",
       "      <td>11.580710</td>\n",
       "      <td>5.158543e+18</td>\n",
       "      <td>4581.587941</td>\n",
       "      <td>55678.469551</td>\n",
       "      <td>487.106170</td>\n",
       "      <td>0.000170</td>\n",
       "    </tr>\n",
       "  </tbody>\n",
       "</table>\n",
       "</div>"
      ],
      "text/plain": [
       "                run    camcol  rerun       field         objid          u  \\\n",
       "class                                                                       \n",
       "GALAXY  1296.045451  3.650627  301.0  240.773726  1.237651e+18  23.829993   \n",
       "QSO     1117.642008  3.993451  301.0  289.390735  1.237650e+18  19.717012   \n",
       "STAR    1018.062500  3.778646  301.0  232.585136  1.237650e+18  21.938177   \n",
       "\n",
       "                g          r          i          z          ra        dec  \\\n",
       "class                                                                       \n",
       "GALAXY  21.906185  20.295857  19.382390  18.949002  159.208621  15.638214   \n",
       "QSO     18.616896  20.721379  20.551191  20.324398  168.267999  22.607516   \n",
       "STAR    20.432247  19.942759  19.693122  19.539174  158.363837  11.580710   \n",
       "\n",
       "           specobjid        plate           mjd     fiberid  redshift  \n",
       "class                                                                  \n",
       "GALAXY  5.299049e+18  4706.373388  55747.852086  523.408521  0.503228  \n",
       "QSO     5.440519e+18  4832.024497  55821.520737  520.322338  2.110945  \n",
       "STAR    5.158543e+18  4581.587941  55678.469551  487.106170  0.000170  "
      ]
     },
     "execution_count": 18,
     "metadata": {},
     "output_type": "execute_result"
    }
   ],
   "source": [
    "sdss_data.groupby('class').mean()"
   ]
  },
  {
   "cell_type": "code",
   "execution_count": 19,
   "id": "binary-examination",
   "metadata": {
    "lines_to_next_cell": 0,
    "title": "codecell"
   },
   "outputs": [],
   "source": [
    "# removing redundant columns\n",
    "# most of them refers to some kind of an id\n",
    "\n",
    "cols_to_drop = ['objid', 'specobjid', 'camcol',\n",
    "                'rerun', 'field', 'plate', 'fiberid', 'run']\n",
    "sdss_data.drop(columns=cols_to_drop, inplace=True)"
   ]
  },
  {
   "cell_type": "markdown",
   "id": "9400aae7-fba7-4486-9ef6-897ecff4c304",
   "metadata": {
    "lines_to_next_cell": 0,
    "title": "markdown"
   },
   "source": [
    "# Reducing dimensionality using PCA"
   ]
  },
  {
   "cell_type": "code",
   "execution_count": 20,
   "id": "b29cbc4c-f883-4d1e-95cc-9dcf411ddf46",
   "metadata": {
    "lines_to_next_cell": 0,
    "title": "codecell"
   },
   "outputs": [],
   "source": [
    "# Standarization\n",
    "filter_bands = ['u', 'g', 'r', 'i', 'z']\n",
    "\n",
    "filters = sdss_data.loc[:, filter_bands].values\n",
    "standarized_filters = StandardScaler().fit_transform(filters)"
   ]
  },
  {
   "cell_type": "code",
   "execution_count": 21,
   "id": "a3790480-8c80-4f13-90de-805609b90221",
   "metadata": {
    "lines_to_next_cell": 0,
    "title": "codecell"
   },
   "outputs": [],
   "source": [
    "# principal component analysis\n",
    "pca_u_g = PCA(n_components=1)\n",
    "pca_r_i_z = PCA(n_components=2)\n",
    "sdss_pca_u_g = pd.DataFrame(pca_u_g.fit_transform(standarized_filters[:, :2]), columns=['PCA_u_g_0'])\n",
    "sdss_pca_r_i_z = pd.DataFrame(pca_r_i_z.fit_transform(standarized_filters[:, 2:]), columns=['PCA_r_i_z_0', 'PCA_r_i_z_1'])\n",
    "\n",
    "# remove old column and add \n",
    "sdss_after_pca = pd.concat((sdss_data, sdss_pca_r_i_z, sdss_pca_u_g), axis=1)\n",
    "sdss_after_pca.drop(filter_bands, axis=1, inplace=True)"
   ]
  },
  {
   "cell_type": "code",
   "execution_count": 22,
   "id": "exotic-surgery",
   "metadata": {
    "lines_to_next_cell": 0,
    "title": "codecell"
   },
   "outputs": [
    {
     "data": {
      "text/html": [
       "<div>\n",
       "<style scoped>\n",
       "    .dataframe tbody tr th:only-of-type {\n",
       "        vertical-align: middle;\n",
       "    }\n",
       "\n",
       "    .dataframe tbody tr th {\n",
       "        vertical-align: top;\n",
       "    }\n",
       "\n",
       "    .dataframe thead th {\n",
       "        text-align: right;\n",
       "    }\n",
       "</style>\n",
       "<table border=\"1\" class=\"dataframe\">\n",
       "  <thead>\n",
       "    <tr style=\"text-align: right;\">\n",
       "      <th></th>\n",
       "      <th>class</th>\n",
       "      <th>ra</th>\n",
       "      <th>dec</th>\n",
       "      <th>mjd</th>\n",
       "      <th>redshift</th>\n",
       "      <th>PCA_r_i_z_0</th>\n",
       "      <th>PCA_r_i_z_1</th>\n",
       "      <th>PCA_u_g_0</th>\n",
       "    </tr>\n",
       "  </thead>\n",
       "  <tbody>\n",
       "    <tr>\n",
       "      <th>0</th>\n",
       "      <td>GALAXY</td>\n",
       "      <td>181.970925</td>\n",
       "      <td>-0.367202</td>\n",
       "      <td>55321</td>\n",
       "      <td>0.422777</td>\n",
       "      <td>2.449977</td>\n",
       "      <td>-0.048229</td>\n",
       "      <td>-0.003714</td>\n",
       "    </tr>\n",
       "    <tr>\n",
       "      <th>1</th>\n",
       "      <td>GALAXY</td>\n",
       "      <td>189.215634</td>\n",
       "      <td>2.197783</td>\n",
       "      <td>55649</td>\n",
       "      <td>0.668512</td>\n",
       "      <td>0.879094</td>\n",
       "      <td>-0.343067</td>\n",
       "      <td>-0.020300</td>\n",
       "    </tr>\n",
       "    <tr>\n",
       "      <th>2</th>\n",
       "      <td>GALAXY</td>\n",
       "      <td>136.355371</td>\n",
       "      <td>1.462998</td>\n",
       "      <td>55532</td>\n",
       "      <td>0.612269</td>\n",
       "      <td>0.975897</td>\n",
       "      <td>-0.352402</td>\n",
       "      <td>-0.026624</td>\n",
       "    </tr>\n",
       "    <tr>\n",
       "      <th>3</th>\n",
       "      <td>GALAXY</td>\n",
       "      <td>120.314530</td>\n",
       "      <td>45.027188</td>\n",
       "      <td>56245</td>\n",
       "      <td>0.653417</td>\n",
       "      <td>-1.202186</td>\n",
       "      <td>-0.812387</td>\n",
       "      <td>-0.058416</td>\n",
       "    </tr>\n",
       "    <tr>\n",
       "      <th>4</th>\n",
       "      <td>GALAXY</td>\n",
       "      <td>137.933601</td>\n",
       "      <td>58.909497</td>\n",
       "      <td>56605</td>\n",
       "      <td>0.516920</td>\n",
       "      <td>0.243226</td>\n",
       "      <td>-0.310078</td>\n",
       "      <td>-0.045466</td>\n",
       "    </tr>\n",
       "  </tbody>\n",
       "</table>\n",
       "</div>"
      ],
      "text/plain": [
       "    class          ra        dec    mjd  redshift  PCA_r_i_z_0  PCA_r_i_z_1  \\\n",
       "0  GALAXY  181.970925  -0.367202  55321  0.422777     2.449977    -0.048229   \n",
       "1  GALAXY  189.215634   2.197783  55649  0.668512     0.879094    -0.343067   \n",
       "2  GALAXY  136.355371   1.462998  55532  0.612269     0.975897    -0.352402   \n",
       "3  GALAXY  120.314530  45.027188  56245  0.653417    -1.202186    -0.812387   \n",
       "4  GALAXY  137.933601  58.909497  56605  0.516920     0.243226    -0.310078   \n",
       "\n",
       "   PCA_u_g_0  \n",
       "0  -0.003714  \n",
       "1  -0.020300  \n",
       "2  -0.026624  \n",
       "3  -0.058416  \n",
       "4  -0.045466  "
      ]
     },
     "execution_count": 22,
     "metadata": {},
     "output_type": "execute_result"
    }
   ],
   "source": [
    "sdss_after_pca.head()"
   ]
  },
  {
   "cell_type": "markdown",
   "id": "d4746ebf-73c5-40b4-954a-f9fbc792a38e",
   "metadata": {
    "lines_to_next_cell": 0,
    "title": "markdown"
   },
   "source": [
    "# Splitting data"
   ]
  },
  {
   "cell_type": "code",
   "execution_count": 23,
   "id": "utility-boundary",
   "metadata": {
    "lines_to_next_cell": 0,
    "title": "codecell"
   },
   "outputs": [],
   "source": [
    "X = sdss_after_pca.drop('class', axis=1)\n",
    "y = pd.get_dummies(sdss_after_pca['class'])"
   ]
  },
  {
   "cell_type": "code",
   "execution_count": 24,
   "id": "criminal-correction",
   "metadata": {
    "lines_to_next_cell": 0,
    "title": "codecell"
   },
   "outputs": [],
   "source": [
    "# train test split\n",
    "X_train, X_test, y_train, y_test = train_test_split(\n",
    "    X, y, train_size=.8, random_state=77)\n",
    "\n",
    "# Standarization\n",
    "scaler = RobustScaler()\n",
    "X_train = scaler.fit_transform(X_train)\n",
    "X_test = scaler.transform(X_test)"
   ]
  },
  {
   "cell_type": "code",
   "execution_count": 25,
   "id": "73e1bfef-abd9-42f2-ac3d-e103c70e9ce0",
   "metadata": {},
   "outputs": [],
   "source": [
    "# create validation set\n",
    "X_train, X_val, y_train, y_val = train_test_split(X_train, y_train, test_size=.2, random_state=77)"
   ]
  },
  {
   "cell_type": "markdown",
   "id": "50d29372-ab06-4cbf-9376-b9b25fe642d2",
   "metadata": {},
   "source": [
    "# Classification"
   ]
  },
  {
   "cell_type": "code",
   "execution_count": 26,
   "id": "olive-longitude",
   "metadata": {
    "title": "codecell"
   },
   "outputs": [],
   "source": [
    "network = nn.NeuralNetwork(nn.tanh)\n",
    "\n",
    "network.add(nn.Dense(7, 14))\n",
    "network.add(nn.Dense(14, 10))\n",
    "network.add(nn.Dense(10, 5))\n",
    "network.add(nn.Dense(5, 3))"
   ]
  },
  {
   "cell_type": "code",
   "execution_count": 27,
   "id": "understood-adult",
   "metadata": {
    "title": "codecell"
   },
   "outputs": [
    {
     "name": "stdout",
     "output_type": "stream",
     "text": [
      "Generation 1/300\tbest cost = 0.52226\ttrain acc=>0.549\tval acc=>0.552\n",
      "Generation 75/300\tbest cost = 0.23185\ttrain acc=>0.761\tval acc=>0.761\n",
      "Generation 150/300\tbest cost = 0.05960\ttrain acc=>0.940\tval acc=>0.940\n",
      "Generation 225/300\tbest cost = 0.03360\ttrain acc=>0.967\tval acc=>0.967\n",
      "Generation 300/300\tbest cost = 0.02587\ttrain acc=>0.976\tval acc=>0.975\n",
      "\n",
      "Training time: 3270.93s\n"
     ]
    }
   ],
   "source": [
    "network.train(X_train, y_train, X_val, y_val, 300,\n",
    "              learning_rate=.1, w=.9, fi1=.3, fi2=.7, particles_in_swarm=50, verbose=False)"
   ]
  },
  {
   "cell_type": "code",
   "execution_count": 28,
   "id": "alien-aquatic",
   "metadata": {
    "lines_to_next_cell": 0,
    "title": "codecell"
   },
   "outputs": [
    {
     "data": {
      "text/plain": [
       "<matplotlib.legend.Legend at 0x7f06792d0490>"
      ]
     },
     "execution_count": 28,
     "metadata": {},
     "output_type": "execute_result"
    },
    {
     "data": {
      "image/png": "[encoded data removed]",
      "text/plain": [
       "<Figure size 432x288 with 1 Axes>"
      ]
     },
     "metadata": {
      "needs_background": "light"
     },
     "output_type": "display_data"
    }
   ],
   "source": [
    "fig, ax = plt.subplots()\n",
    "\n",
    "ax.plot(network.history_train, label='train')\n",
    "ax.plot(network.history_val, label='val')\n",
    "ax.legend()\n",
    "\n",
    "# fig.show()"
   ]
  },
  {
   "cell_type": "markdown",
   "id": "e1dae77f-5e22-47d0-8be9-55d04d8fc33e",
   "metadata": {},
   "source": [
    "# Results"
   ]
  },
  {
   "cell_type": "markdown",
   "id": "ea23f955-484a-4fbf-a399-6553983504b6",
   "metadata": {},
   "source": [
    "### Predict test"
   ]
  },
  {
   "cell_type": "code",
   "execution_count": 29,
   "id": "e3e2a85a-8224-4fda-a591-8e84a8b7a049",
   "metadata": {},
   "outputs": [],
   "source": [
    "y_test.reset_index(inplace=True, drop=True)"
   ]
  },
  {
   "cell_type": "code",
   "execution_count": 30,
   "id": "54e50132-aafa-4512-be5c-ae0598303f5f",
   "metadata": {},
   "outputs": [],
   "source": [
    "y_pred = network.predict(X_test)"
   ]
  },
  {
   "cell_type": "markdown",
   "id": "b5660a02-08db-48ee-ad50-5ad9efe117f3",
   "metadata": {},
   "source": [
    "### Classification report"
   ]
  },
  {
   "cell_type": "code",
   "execution_count": 31,
   "id": "ca2cdde4-2ce7-44d6-a625-874de9721db1",
   "metadata": {},
   "outputs": [
    {
     "name": "stdout",
     "output_type": "stream",
     "text": [
      "              precision    recall  f1-score   support\n",
      "\n",
      "           0       0.97      0.98      0.98      2281\n",
      "           1       0.99      0.92      0.95       814\n",
      "           2       0.97      0.99      0.98       977\n",
      "\n",
      "   micro avg       0.97      0.97      0.97      4072\n",
      "   macro avg       0.97      0.96      0.97      4072\n",
      "weighted avg       0.97      0.97      0.97      4072\n",
      " samples avg       0.97      0.97      0.97      4072\n",
      "\n",
      "\n",
      "Accuracy = 0.972\n"
     ]
    }
   ],
   "source": [
    "print(classification_report(y_test, y_pred))\n",
    "\n",
    "acc = np.sum((y_test == y_pred).all(axis=1)) / len(y_test)\n",
    "print(f'\\nAccuracy = {acc:.3f}')"
   ]
  },
  {
   "cell_type": "code",
   "execution_count": 32,
   "id": "94a77d2c-69bb-402e-b421-2ca694fe4b50",
   "metadata": {},
   "outputs": [
    {
     "data": {
      "text/plain": [
       "Text(0.5, 1.0, 'Confusion matrix')"
      ]
     },
     "execution_count": 32,
     "metadata": {},
     "output_type": "execute_result"
    },
    {
     "data": {
      "image/png": "[encoded data removed]",
      "text/plain": [
       "<Figure size 432x288 with 2 Axes>"
      ]
     },
     "metadata": {
      "needs_background": "light"
     },
     "output_type": "display_data"
    }
   ],
   "source": [
    "conf_matrix = confusion_matrix(y_test.idxmax(axis=1), y_pred.idxmax(axis=1), labels=y_test.columns.to_list())\n",
    "conf_matrix_norm = conf_matrix / np.sum(conf_matrix, axis=1, keepdims=True)\n",
    "\n",
    "ax = sns.heatmap(pd.DataFrame(conf_matrix_norm), cmap=sns.cm.rocket_r, annot=True, fmt='.5g', xticklabels=y_test.columns.to_list(), yticklabels=y_test.columns.to_list())\n",
    "ax.set(xlabel='Ground truth', ylabel='Prediction')\n",
    "ax.set_title('Confusion matrix')"
   ]
  }
 ],
 "metadata": {
  "jupytext": {
   "cell_metadata_filter": "title,-all",
   "main_language": "python",
   "notebook_metadata_filter": "-all"
  },
  "kernelspec": {
   "display_name": "venv",
   "language": "python",
   "name": "venv"
  },
  "language_info": {
   "codemirror_mode": {
    "name": "ipython",
    "version": 3
   },
   "file_extension": ".py",
   "mimetype": "text/x-python",
   "name": "python",
   "nbconvert_exporter": "python",
   "pygments_lexer": "ipython3",
   "version": "3.9.4"
  }
 },
 "nbformat": 4,
 "nbformat_minor": 5
}
